{
  "nbformat": 4,
  "nbformat_minor": 0,
  "metadata": {
    "colab": {
      "provenance": []
    },
    "kernelspec": {
      "name": "python3",
      "display_name": "Python 3"
    },
    "language_info": {
      "name": "python"
    }
  },
  "cells": [
    {
      "cell_type": "markdown",
      "source": [
        "# **DATA TOOLKIT THEORETICAL QUESTIONS**"
      ],
      "metadata": {
        "id": "UcTQePTRwpdz"
      }
    },
    {
      "cell_type": "markdown",
      "source": [
        "## Q1. What is NumPy, and why is it widely used in Python?"
      ],
      "metadata": {
        "id": "FU9F3Bq3w3fj"
      }
    },
    {
      "cell_type": "markdown",
      "source": [
        "ANS 1.\n",
        "\n",
        "NumPy (Numerical Python) is a powerful open-source library for numerical computing in Python. It provides support for large, multi-dimensional arrays and matrices, along with a collection of mathematical functions to operate on them efficiently.\n",
        "\n",
        "- **Why is NumPy Widely Used?**\n",
        "\n",
        " 1. **Efficient Array Operations** – NumPy arrays (ndarrays) are more efficient than Python lists, offering faster computation and less memory consumption.\n",
        "\n",
        " 2. **Broadcasting and Vectorization** – NumPy allows for element-wise operations on entire arrays without needing explicit loops, improving performance.\n",
        "\n",
        " 3. **Comprehensive Mathematical Functions** – It includes a wide range of mathematical, statistical, and linear algebra functions.\n",
        "\n",
        " 4. **Interoperability** – It integrates well with other libraries like Pandas, SciPy, Matplotlib, and TensorFlow.\n",
        "\n",
        " 5. **Scientific and Data Science Applications** – Used in data analysis, machine learning, and scientific computing due to its efficiency and ease of use.\n"
      ],
      "metadata": {
        "id": "lF19qNfDw-IM"
      }
    },
    {
      "cell_type": "markdown",
      "source": [
        "## Q2. How does broadcasting work in NumPy?"
      ],
      "metadata": {
        "id": "XWBNhVpgxAUN"
      }
    },
    {
      "cell_type": "markdown",
      "source": [
        "ANS 2.\n",
        "\n",
        "- **How Broadcasting Works in NumPy:**\n",
        "Broadcasting in NumPy allows operations between arrays of different shapes without needing explicit loops. Instead of manually reshaping arrays, NumPy automatically expands dimensions where necessary to make them compatible.\n",
        "\n",
        "- **Broadcasting Rules**\n",
        "1. Arrays must have the same shape or be compatible.\n",
        "2. Dimensions are compatible if:\n",
        "   - They are equal, or\n",
        "   - One of them is *1*, which allows it to be stretched to match the other.\n",
        "\n",
        "\n",
        "- **Example:** Adding a Scalar to an Array"
      ],
      "metadata": {
        "id": "DAN6-jDVxFUV"
      }
    },
    {
      "cell_type": "code",
      "source": [
        "import numpy as np\n",
        "\n",
        "arr = np.array([1, 2, 3])\n",
        "scalar = 5\n",
        "\n",
        "result = arr + scalar  # The scalar is broadcasted to match array's shape\n",
        "print(result)"
      ],
      "metadata": {
        "colab": {
          "base_uri": "https://localhost:8080/"
        },
        "id": "YFwrxYVY_E0d",
        "outputId": "a48c8685-79aa-48f5-edc6-3258968bdcd6"
      },
      "execution_count": null,
      "outputs": [
        {
          "output_type": "stream",
          "name": "stdout",
          "text": [
            "[6 7 8]\n"
          ]
        }
      ]
    },
    {
      "cell_type": "markdown",
      "source": [
        "## Q3. What is a Pandas DataFrame?"
      ],
      "metadata": {
        "id": "zpvv1C3xxIYt"
      }
    },
    {
      "cell_type": "markdown",
      "source": [
        "ANS 3.\n",
        "\n",
        "A **Pandas DataFrame** is a two-dimensional, labeled data structure in Python, similar to a table in a database, an Excel spreadsheet, or a dictionary of Series objects. It is one of the core data structures in the *Pandas* library, widely used for data manipulation and analysis.\n",
        "\n",
        "- **Key Features of a DataFrame**\n",
        " 1. *Tabular Structure* – Organized in rows and columns, similar to a spreadsheet.\n",
        " 2. *Labeled Index and Columns* – Rows have an index (default: 0, 1, 2, …) and columns have labels.\n",
        " 3. *Heterogeneous Data* – Can store different data types (integers, floats, strings, etc.) in different columns.\n",
        " 4. *Powerful Data Operations* – Supports filtering, grouping, merging, and more.\n"
      ],
      "metadata": {
        "id": "hb8CFmKYxPv2"
      }
    },
    {
      "cell_type": "markdown",
      "source": [
        "## Q4. Explain the use of the groupby() method in Pandas."
      ],
      "metadata": {
        "id": "aKRBcejXxR-G"
      }
    },
    {
      "cell_type": "markdown",
      "source": [
        "ANS 4.\n",
        "\n",
        "The `groupby()` method in Pandas is used to group data based on one or more columns and perform aggregate operations like sum, mean, count, etc.\n",
        "\n",
        "**Syntax:** `df.groupby(by, axis=0).agg(func)`\n",
        "  - *by* – Column(s) to group by.\n",
        "  - *axis* – Default is 0 (group by rows).\n",
        "  - *func* – Aggregation function(s) like sum(), mean(), count(), etc.\n",
        "\n",
        "\n",
        "- **Example:** Grouping and Aggregating"
      ],
      "metadata": {
        "id": "zMZuLE6PxY1n"
      }
    },
    {
      "cell_type": "code",
      "source": [
        "import pandas as pd\n",
        "\n",
        "data = {\n",
        "    \"Department\": [\"Sales\", \"Sales\", \"IT\", \"IT\", \"HR\"],\n",
        "    \"Employee\": [\"Alisha\", \"Bobby\", \"Chahat\", \"Dhiraj\", \"Emanuel\"],\n",
        "    \"Salary\": [50000, 55000, 60000, 65000, 48000]\n",
        "}\n",
        "\n",
        "df = pd.DataFrame(data)\n",
        "\n",
        "# Group by 'Department' and sum salaries\n",
        "grouped = df.groupby(\"Department\")[\"Salary\"].sum()\n",
        "print(grouped)"
      ],
      "metadata": {
        "colab": {
          "base_uri": "https://localhost:8080/"
        },
        "id": "u8KePt38CKXE",
        "outputId": "89d24708-f94f-4f1e-949d-0bf5a994e78b"
      },
      "execution_count": 2,
      "outputs": [
        {
          "output_type": "stream",
          "name": "stdout",
          "text": [
            "Department\n",
            "HR        48000\n",
            "IT       125000\n",
            "Sales    105000\n",
            "Name: Salary, dtype: int64\n"
          ]
        }
      ]
    },
    {
      "cell_type": "markdown",
      "source": [
        "## Q5. Why is Seaborn preferred for statistical visualizations?"
      ],
      "metadata": {
        "id": "z_L76bSbxd_X"
      }
    },
    {
      "cell_type": "markdown",
      "source": [
        "ANS 5.\n",
        "\n",
        "Seaborn is a Python data visualization library built on top of Matplotlib. It is specifically designed for *statistical visualizations*, making it a preferred choice for data analysis and exploratory data analysis (EDA).  \n",
        "\n",
        "1. **Built-in Statistical Functions:**   Seaborn simplifies complex statistical visualizations with built-in functions.  \n",
        " - Supports regression plots, categorical plots, and distribution plots.  \n",
        " - Easily integrates with Pandas DataFrames.  \n",
        "\n",
        "2. **Aesthetic and Informative Visuals:**  Seaborn produces visually appealing charts with minimal effort.  \n",
        " - Comes with built-in themes (darkgrid, whitegrid, dark, etc.).  \n",
        " - Automatically applies color palettes to enhance readability.  \n",
        "\n",
        "3. **Superior Handling of Categorical Data::**  Seaborn makes it easy to visualize categorical relationships using:  \n",
        " - *boxplot()* - Displays distribution and outliers.  \n",
        " - *violinplot()* - Shows distribution and density.  \n",
        " - *stripplot()* - Displays individual points.  \n",
        " - *catplot()* - Combines multiple categorical plots.  \n",
        "\n",
        "4. **Automatic Aggregation and Statistical Estimation:**  Seaborn automatically calculates means, medians, and other statistics.  \n",
        " - *barplot()* - Aggregates and shows mean values.  \n",
        " - *pointplot()* - Displays trends over categorical variables.  \n",
        "\n",
        "5. **Easy Handling of Large Datasets with FacetGrid:**  Seaborn allows multi-panel visualizations to explore trends across multiple variables.  \n",
        "\n",
        "6. **Seamless Integration with Pandas & NumPy:**  \n",
        " - Works directly with Pandas DataFrames.  \n",
        " - Handles missing values gracefully.  \n",
        " - Supports NumPy arrays for mathematical operations.  \n",
        "\n",
        "7. **Better Defaults than Matplotlib:** Seaborn requires less code to produce complex plots with professional aesthetics, making it a better default choice over Matplotlib for statistical analysis."
      ],
      "metadata": {
        "id": "08wKc9EGxhlo"
      }
    },
    {
      "cell_type": "markdown",
      "source": [
        "## Q6. What are the differences between NumPy arrays and Python lists?"
      ],
      "metadata": {
        "id": "ESIQOTCjxjfY"
      }
    },
    {
      "cell_type": "markdown",
      "source": [
        "ANS 6.\n",
        "\n",
        "**Differences Between NumPy Arrays and Python Lists**\n",
        "\n",
        "1. **Performance:**\n",
        " - *NumPy arrays* are faster because they use C-based implementation and support vectorized operations.  \n",
        " - *Python lists* are slower since they rely on Python’s interpreted nature and require explicit loops for operations.  \n",
        "\n",
        "2. **Memory Efficiency:**\n",
        " - *NumPy arrays* use fixed-size, homogeneous data types, making them more memory-efficient.  \n",
        " - *Python lists* store heterogeneous data, leading to higher memory consumption.  \n",
        "\n",
        "3. **Data Type:**\n",
        " - *NumPy arrays* require all elements to be of the same data type (e.g., int32, float64).  \n",
        " - *Python lists* can hold mixed data types (integers, strings, floats, etc.).  \n",
        "\n",
        "4. **Mathematical Operations:**\n",
        " - *NumPy arrays* support element-wise operations without loops.  \n",
        " - *Python lists* require explicit loops for performing operations on each element.  \n",
        "\n",
        "5. **Built-in Functions:**\n",
        " - *NumPy* provides advanced mathematical functions like mean(), std(), dot().  \n",
        " - *Python lists* lack built-in numerical functions, requiring manual implementation.  \n",
        "\n",
        "6. **Indexing:**\n",
        " - *NumPy arrays* support multi-dimensional indexing and slicing.  \n",
        " - *Python lists* only support basic indexing and do not have built-in multi-dimensional support.  \n",
        "\n",
        "7. **Broadcasting:**\n",
        " - *NumPy arrays* allow operations between arrays of different shapes via broadcasting.  \n",
        " - *Python lists* do not support broadcasting, requiring manual adjustments.  \n",
        "\n",
        "8. **Flexibility:**\n",
        " - *NumPy arrays* are optimized for numerical computations but less flexible.  \n",
        " - *Python lists* are more flexible and can store different data types and objects.  \n",
        "\n",
        "9. **Dependencies:**  \n",
        " - *NumPy* requires installation (pip install numpy).  \n",
        " - *Python lists* are built into Python by default."
      ],
      "metadata": {
        "id": "vdb_nsxixp3h"
      }
    },
    {
      "cell_type": "markdown",
      "source": [
        "## Q7. What is a heatmap, and when should it be used?"
      ],
      "metadata": {
        "id": "-S2NGab8xr7R"
      }
    },
    {
      "cell_type": "markdown",
      "source": [
        "ANS 7.\n",
        "\n",
        "- **What is a Heatmap?**  \n",
        "A *heatmap* is a data visualization technique that represents numerical values using a *color gradient*. It helps identify patterns, correlations, and distributions in large datasets by using different shades of color to indicate variations in data values.\n",
        "\n",
        "- **When Should a Heatmap Be Used?**  \n",
        "\n",
        " 1. **Analyzing Correlations in Data:**  \n",
        "   - Heatmaps are often used in *correlation matrices* to show relationships between different variables in a dataset.\n",
        "   - Darker or lighter colors indicate strong or weak correlations.\n",
        "\n",
        " 2. **Visualizing Large Datasets:**  \n",
        "   - Heatmaps make it easier to spot patterns in large datasets.\n",
        "   - Useful for visualizing *missing values, distributions, and outliers*.\n",
        "\n",
        " 3. **Representing Geographic Data:**  \n",
        "   - Heatmaps are used in *geospatial analysis* to show density, such as *weather maps, **crime rates, and **customer locations*.\n",
        "\n",
        " 4. **Website User Behavior Analysis:**  \n",
        "   - Heatmaps help track user activity, such as *click frequency* or *scroll behavior*.\n",
        "   - Used in web analytics to optimize website layouts and improve user experience.\n",
        "\n",
        "- **When NOT to Use a Heatmap:**  \n",
        " - When exact numerical values are needed instead of patterns.  \n",
        " - When dealing with very small datasets (tables may be better).  \n",
        " - When colors may cause misinterpretation (e.g., colorblind users).  \n"
      ],
      "metadata": {
        "id": "K4gV-xQuz14q"
      }
    },
    {
      "cell_type": "markdown",
      "source": [
        "## Q8.What does the term “vectorized operation” mean in NumPy?"
      ],
      "metadata": {
        "id": "5F19C9Wwz4HR"
      }
    },
    {
      "cell_type": "markdown",
      "source": [
        "ANS 8.\n",
        "\n",
        "A **vectorized operation** in NumPy refers to performing operations *on entire arrays* without using explicit loops. These operations are executed *in parallel at the low-level (C-based), making them significantly faster* than traditional Python loops.\n",
        "\n",
        "- *Why Use Vectorized Operations?*  \n",
        " - *Speed* – Runs faster than loops because computations are optimized in C.  \n",
        " - *Efficiency* – Uses less memory and fewer CPU cycles.  \n",
        " - *Conciseness* – Requires fewer lines of code compared to explicit loops.  \n"
      ],
      "metadata": {
        "id": "pDNhp6bFz-bi"
      }
    },
    {
      "cell_type": "markdown",
      "source": [
        "## Q9. How does Matplotlib differ from Plotly?"
      ],
      "metadata": {
        "id": "c9Y5No1z0ALz"
      }
    },
    {
      "cell_type": "markdown",
      "source": [
        "ANS 9.\n",
        "\n",
        "**Matplotlib vs. Plotly: Key Differences**  \n",
        "\n",
        "1. **Type of Visualization**  \n",
        " - *Matplotlib:* Primarily used for static 2D plotting.  \n",
        " - *Plotly:* Designed for interactive web-based visualizations.  \n",
        "\n",
        "2. **Interactivity**  \n",
        " - *Matplotlib:* Generates static images by default, with limited interactivity.  \n",
        " - *Plotly:* Supports zooming, hovering, and tooltips by default, making it more user-friendly for data exploration.  \n",
        "\n",
        "3. **Ease of Use**  \n",
        " - *Matplotlib:* Requires manual customization to improve appearance.  \n",
        " - *Plotly:* Provides built-in styling with modern aesthetics.  \n",
        "\n",
        "4. **Customization**  \n",
        " - *Matplotlib:* Highly customizable but requires more effort.  \n",
        " - *Plotly:* Offers customization with interactive elements, but some manual styling is needed for advanced plots.  \n",
        "\n",
        "5. **3D Plotting**  \n",
        " - *Matplotlib:* Supports basic 3D plotting via `mpl_toolkits.mplot3d`.  \n",
        " - *Plotly:* Provides advanced interactive 3D plotting capabilities.  \n",
        "\n",
        "6. **Web Integration**  \n",
        " - *Matplotlib*: Not optimized for web use.  \n",
        " - *Plotly:* Designed for web-based visualizations and integrates well with Dash.  \n",
        "\n",
        "7. **Performance**  \n",
        " - *Matplotlib:* Faster for simple static plots.  \n",
        " - *Plotly:* Handles large datasets interactively, but may be slower for complex plots.  \n",
        "\n",
        "8. **Best Use Cases**  \n",
        " - *Matplotlib:* Ideal for scientific plots, reports, and academic publications.  \n",
        " - *Plotly:* Best for dashboards, web apps, and interactive data exploration.  \n"
      ],
      "metadata": {
        "id": "wKmrz68g0KFz"
      }
    },
    {
      "cell_type": "markdown",
      "source": [
        "## Q10. What is the significance of hierarchical indexing in Pandas?"
      ],
      "metadata": {
        "id": "3wJvaXsf0L1s"
      }
    },
    {
      "cell_type": "markdown",
      "source": [
        "ANS 10.\n",
        "\n",
        "- **What is Hierarchical Indexing?**  \n",
        "Hierarchical indexing (also known as *multi-indexing*) in Pandas allows a DataFrame or Series to have multiple levels of row and/or column labels. It enables grouping, slicing, and organizing complex datasets efficiently*.  \n",
        "\n",
        "\n",
        "- **Why is Hierarchical Indexing Important?**\n",
        "1. **Organizes Multi-Dimensional Data in a Tabular Format**\n",
        "  - Allows representation of *multi-dimensional data* in a *2D DataFrame*.  \n",
        "  - Useful when dealing with *grouped* or *nested data*.\n",
        "\n",
        "2. **Efficient Data Filtering & Selection**  \n",
        "  - Enables quick selection of *subsets* of data using .loc[].  \n",
        "  - *Benefit:* Directly accesses specific data points without looping.  \n",
        "\n",
        "3. **Enables Grouping & Aggregation at Multiple Levels**  \n",
        "  - Allows aggregation operations at different hierarchical levels.  \n",
        "  -  *Benefit:* Quickly summarize data at different levels.  \n",
        "  \n",
        "4. **Flexible Reshaping & Pivoting of Data**  \n",
        "  - Supports .unstack() and .stack() for reshaping multi-indexed data.  \n",
        "  - *Benefit:* Easily transform data structures for visualization.\n"
      ],
      "metadata": {
        "id": "lErqMFN30Usl"
      }
    },
    {
      "cell_type": "markdown",
      "source": [
        "## Q11. What is the role of Seaborn’s pairplot() function?"
      ],
      "metadata": {
        "id": "ugiNNChb0XEd"
      }
    },
    {
      "cell_type": "markdown",
      "source": [
        "ANS 11.  \n",
        "\n",
        "*What is pairplot()?*  \n",
        "Seaborn’s `pairplot()` is used to visualize relationships between multiple numerical variables in a dataset by plotting pairwise scatter plots for each variable combination.  \n",
        "\n",
        "*Key Uses of pairplot()*  \n",
        "\n",
        "1. **Exploratory Data Analysis (EDA)**  \n",
        " - Helps identify correlations between numerical variables.  \n",
        " - Highlights trends, clusters, and outliers in data.\n",
        "\n",
        "2. **Detecting Trends & Correlations**  \n",
        " - Shows linear or non-linear relationships between features.  \n",
        " - Helps determine if variables are positively or negatively correlated.\n",
        " - *Benefit:* Quickly spot strong correlations between variables.  \n",
        "\n",
        "3. **Visualizing Class Distributions with hue**  \n",
        " - Uses color coding to differentiate categories in a dataset.  \n",
        " - Helps identify class separability in classification problems.\n",
        " - *Benefit:* Easily observe how species are distributed across features.  \n",
        "\n",
        "4. **Handling Large Datasets Efficiently**  \n",
        " - Plots only a subset of variables if needed.\n",
        " - Adjusts point density using plot_kws for better visibility.  \n",
        " - *Benefit:* Focuses on specific feature relationships instead of plotting all variables.  \n",
        "\n",
        "- **When to Use pairplot()?**  \n",
        " - When performing EDA to explore feature relationships.  \n",
        " - When checking for correlations, trends, or outliers.  \n",
        " - When analyzing classification datasets to see feature separability.  \n"
      ],
      "metadata": {
        "id": "zPpuBfvx1Plc"
      }
    },
    {
      "cell_type": "markdown",
      "source": [
        "## Q12. What is the purpose of the describe() function in Pandas?"
      ],
      "metadata": {
        "id": "Qy9Ar5JW1R9k"
      }
    },
    {
      "cell_type": "markdown",
      "source": [
        "ANS 12.\n",
        "\n",
        "- **What is `describe()`?**  \n",
        "The *`describe()`* function in Pandas provides *summary statistics* for numerical (or categorical) columns in a DataFrame. It is widely used for exploratory data analysis (EDA).  \n",
        "\n",
        "\n",
        "\n",
        "- **Key Features of `describe()`:**  \n",
        "  1. **Provides Summary Statistics for Numerical Data**  - Computes key statistics like count, mean, standard deviation, min, max, and quartiles.  \n",
        "\n",
        "  2. **Works with Categorical Data (include=\"object\")** - Returns *count, unique values, top value, and frequency* for categorical columns.  \n",
        "\n",
        "  3. **Can Include All Data Types (include=\"all\")** - Shows both numerical and categorical summaries together.\n",
        "\n",
        "\n",
        "-  **When to Use describe()?**  \n",
        " - When performing *EDA* to get a quick dataset overview.  \n",
        " - When checking for missing values, outliers, or distributions.  \n",
        " - When summarizing both numerical and categorical data."
      ],
      "metadata": {
        "id": "cyZ7Yx2i1cX1"
      }
    },
    {
      "cell_type": "markdown",
      "source": [
        "## Q13. Why is handling missing data important in Pandas?"
      ],
      "metadata": {
        "id": "AbYqjWv11fN-"
      }
    },
    {
      "cell_type": "markdown",
      "source": [
        "ANS 13.\n",
        "\n",
        "**Why is Handling Missing Data Important in Pandas?**  \n",
        "Missing data can skew analysis, reduce accuracy, and impact decision-making. Proper handling ensures **reliable results and meaningful insights.  \n",
        "\n",
        "- **Key Reasons for Handling Missing Data**  \n",
        "1. **Prevents Errors in Computations**  \n",
        " - Many operations like *mean, sum, or correlation* may fail or give incorrect results if missing values are not handled.\n",
        " - *Benefit:* Identifies which columns contain missing values.  \n",
        "\n",
        "2. **Improves Data Quality & Model Performance**\n",
        " - *Machine learning models* don't handle missing values well, requiring imputation or removal.  \n",
        " - *Benefit:* Maintains data consistency without losing important information.  \n",
        "\n",
        "3. **Avoids Bias in Analysis**\n",
        " - If missing data is ignored, analysis may become *biased, leading to incorrect conclusions.  \n",
        " - *Benefit:* Ensures only complete data is used in computations.  \n",
        "\n",
        "4. **Enables Consistent Data Processing**\n",
        " - Standardizing how missing values are handled improves *data integrity* across different datasets.  \n",
        " - *Benefit:* Useful when working with *categorical data* (e.g., missing names)."
      ],
      "metadata": {
        "id": "uSUBvB4d1m_o"
      }
    },
    {
      "cell_type": "markdown",
      "source": [
        "## Q14. What are the benefits of using Plotly for data visualization?"
      ],
      "metadata": {
        "id": "mMbxwWE81omH"
      }
    },
    {
      "cell_type": "markdown",
      "source": [
        "ANS 14.\n",
        "\n",
        "Plotly is a *powerful, interactive visualization library* in Python that provides *high-quality, web-based* plots. It is widely used in *data analysis, dashboards, and machine learning applications*.  \n",
        "\n",
        "**Key Benefits of Plotly:**  \n",
        "\n",
        "1. **Interactive Visualizations**  \n",
        " - Allows zooming, panning, hovering, and tooltips by default.  \n",
        " - Makes data easier to explore than static plots (like Matplotlib).  \n",
        " - *Benefit:* Users can interact with the chart to analyze specific points.  \n",
        "\n",
        "2. **Easy to Use & Intuitive Syntax**\n",
        " - Simple API for creating complex charts with minimal code.  \n",
        " - High-level plotly.express module simplifies visualization.  \n",
        "\n",
        "3. **Supports a Wide Range of Charts**  \n",
        " - Line charts, bar charts, scatter plots, heatmaps, 3D plots, and more.  \n",
        " - Also supports advanced visualizations like sunbursts, treemaps, and choropleth maps.  \n",
        "\n",
        "4. **Seamless Web Integration**  \n",
        " - Generates HTML-based visualizations that can be embedded in web applications.  \n",
        " - Works well with *Dash* for creating interactive dashboards.\n",
        " - *Benefit:* Allows easy sharing and embedding of interactive charts.  \n",
        "\n",
        "5. **Built-in Themes & Aesthetics**\n",
        " - Comes with beautiful, customizable themes for professional-looking plots.  \n",
        " - Supports dark mode, color palettes, and layout adjustments.  \n",
        " - *Benefit:* No need for extensive styling—looks great by default.\n",
        "\n",
        "6. **Works Well with Large Datasets**\n",
        " - Optimized for big data visualization without performance issues.  \n",
        " - Supports WebGL-based rendering for smooth high-density plots.  \n",
        " - *Benefit:* Handles large datasets efficiently compared to static libraries."
      ],
      "metadata": {
        "id": "xQBhTWBI1t5f"
      }
    },
    {
      "cell_type": "markdown",
      "source": [
        "## Q15.  How does NumPy handle multidimensional arrays?"
      ],
      "metadata": {
        "id": "y9QP6DwT1wvA"
      }
    },
    {
      "cell_type": "markdown",
      "source": [
        "ANS 15.\n",
        "\n",
        "Here's how NumPy handles multidimensional arrays:\n",
        "\n",
        "- **Creating Multidimensional Arrays**  \n",
        "NumPy provides several ways to create multidimensional arrays:\n",
        "  - We can create a multidimensional array by passing a list of lists to the `numpy.array()` function.\n",
        "  - We can create a multidimensional array filled with zeros using the `numpy.zeros()` function.\n",
        "  - We can create a multidimensional array filled with ones using the `numpy.ones()` function.\n",
        "\n",
        "- **Indexing and Slicing Multidimensional Arrays**  \n",
        "NumPy provides support for indexing and slicing multidimensional arrays:\n",
        "\n",
        "  - Indexing: We can access elements in a multidimensional array using their indices. For example, arr[0, 0] would access the element at the first row and first column.\n",
        "  - Slicing: We can extract a subset of elements from a multidimensional array using slicing. For example, arr[0:2, 0:2] would extract a 2x2 sub-array from the top-left corner.\n",
        "\n",
        "- **Operations on Multidimensional Arrays**  \n",
        "NumPy provides support for various operations on multidimensional arrays:\n",
        "\n",
        "  - Element-wise operations: We can perform element-wise operations, such as addition, subtraction, multiplication, and division, on multidimensional arrays.\n",
        "  - Matrix operations: We can perform matrix operations, such as matrix multiplication and matrix transpose, on multidimensional arrays.\n",
        "  - Broadcasting: NumPy provides support for broadcasting, which allows us to perform operations on arrays with different shapes and sizes.\n",
        "\n",
        "- **Reshaping and Transposing Multidimensional Arrays**  \n",
        "NumPy provides support for reshaping and transposing multidimensional arrays:\n",
        "\n",
        "  - Reshaping: We can reshape a multidimensional array using the `numpy.reshape()` function.\n",
        "  - Transposing: We can transpose a multidimensional array using the `numpy.transpose()` function or the .T attribute.\n",
        "\n",
        "- **Example:**  \n",
        "Here's an example code that demonstrates how to create, index, slice, and perform operations on a multidimensional array:"
      ],
      "metadata": {
        "id": "JZF2Ahak14uZ"
      }
    },
    {
      "cell_type": "code",
      "source": [
        "import numpy as np\n",
        "\n",
        "# Create a 2D array\n",
        "arr = np.array([[1, 2], [3, 4]])\n",
        "\n",
        "# Indexing\n",
        "print(arr[0, 0])\n",
        "\n",
        "# Slicing\n",
        "print(arr[0:2, 0:2])\n",
        "\n",
        "# Element-wise operations\n",
        "print(arr + 1)\n",
        "\n",
        "# Matrix operations\n",
        "print(np.dot(arr, arr))\n",
        "\n",
        "# Reshaping\n",
        "print(arr.reshape(4, 1))\n",
        "# Transposing\n",
        "print(arr.T)"
      ],
      "metadata": {
        "colab": {
          "base_uri": "https://localhost:8080/"
        },
        "id": "T4eOJR23a9-y",
        "outputId": "3d7d76a1-dc69-4eaf-ee76-17b2c6341b3a"
      },
      "execution_count": null,
      "outputs": [
        {
          "output_type": "stream",
          "name": "stdout",
          "text": [
            "1\n",
            "[[1 2]\n",
            " [3 4]]\n",
            "[[2 3]\n",
            " [4 5]]\n",
            "[[ 7 10]\n",
            " [15 22]]\n",
            "[[1]\n",
            " [2]\n",
            " [3]\n",
            " [4]]\n",
            "[[1 3]\n",
            " [2 4]]\n"
          ]
        }
      ]
    },
    {
      "cell_type": "markdown",
      "source": [
        "## Q16. What is the role of Bokeh in data visualization?"
      ],
      "metadata": {
        "id": "SnFeL1uN16Zx"
      }
    },
    {
      "cell_type": "markdown",
      "source": [
        "ANS 16.\n",
        "\n",
        "Bokeh is a *powerful, interactive, and web-friendly visualization library* in Python, designed for creating *high-performance, dynamic, and scalable visualizations*.  \n",
        "\n",
        "\n",
        "\n",
        "###**Key Roles of Bokeh in Data Visualization**  \n",
        "\n",
        "1. **Creating Interactive Visualizations**  \n",
        "- Bokeh enables *interactive charts* with zooming, panning, tooltips, and selection.  \n",
        "- Works well for *large datasets* without performance issues.\n",
        "- *Benefit:* Users can *zoom, pan, and hover* over data points dynamically.  \n",
        "\n",
        "2. **Web-Based Visualizations**  \n",
        "- Generates HTML and JavaScript-based plots, making it perfect for web applications.  \n",
        "- Can be embedded in Flask, Django, or Jupyter Notebooks.  \n",
        "- *Benefit:* Easily shareable and embeddable in web applications.  \n",
        "\n",
        "3. **Supports High-Level and Low-Level APIs**\n",
        "- *High-level API (bokeh.plotting)* → Simple charts (e.g., bar, scatter, line).  \n",
        "- *Low-level API (bokeh.models)* → Custom complex dashboards.  \n",
        "- *Benefit:* Flexible for both quick charts and advanced custom visualizations.  \n",
        "\n",
        "4. **Supports Streaming and Real-Time Data**  \n",
        "- Can update plots dynamically with new data using push_notebook() and server_lifecycle().  \n",
        "- Useful for live dashboards and financial analytics.  \n",
        "- *Benefit:* Perfect for *real-time monitoring applications*.  \n",
        "\n",
        "5. **Integrates with Other Python Libraries**  \n",
        "- Works with Pandas, NumPy, and SciPy for data analysis.  \n",
        "- Can be used alongside Dash, Flask, or Django for web development.  \n",
        "- *Benefit:* Easily integrates with existing data workflows.  \n",
        "\n"
      ],
      "metadata": {
        "id": "eLt05Tjm2BLS"
      }
    },
    {
      "cell_type": "markdown",
      "source": [
        "## Q17. Explain the difference between apply() and map() in Pandas?"
      ],
      "metadata": {
        "id": "gZr5-zKR2Dvq"
      }
    },
    {
      "cell_type": "markdown",
      "source": [
        "ANS 17.\n",
        "\n",
        "Both `apply()` and `map()` are used in Pandas to apply functions to data, but they differ in scope and usage.  \n",
        "\n",
        "\n",
        "\n",
        "1. `map()` - Used for Element-wise Operations on Series\n",
        "- Works only on Series (one column or row at a time).  \n",
        "- Applies a function element-wise to each value.  \n",
        "- Can take:\n",
        "   - A function (lambda or predefined).  \n",
        "   - A dictionary (mapping values).  \n",
        "   - A Series (mapping corresponding index values).  \n",
        "- Best for modifying individual values in a single column.  \n",
        "\n",
        "\n",
        "2. `apply()` - Works on Both Series and DataFrames  \n",
        "- Works on Series (column-wise) and DataFrames (row-wise or column-wise).  \n",
        "- Can apply a function to an entire Series or a DataFrame along an axis (axis=0 for columns, axis=1 for rows).  \n",
        "- Can be used for row-wise and column-wise computations in a DataFrame."
      ],
      "metadata": {
        "id": "-fu8LYuY2JsL"
      }
    },
    {
      "cell_type": "markdown",
      "source": [
        "## Q18. What are some advanced features of NumPy?"
      ],
      "metadata": {
        "id": "ydYv1WP52MA7"
      }
    },
    {
      "cell_type": "markdown",
      "source": [
        "ANS 18.\n",
        "\n",
        "**Advanced Features of NumPy are listed following:**  \n",
        "\n",
        "1. **Broadcasting** - Enables arithmetic operations on arrays of different shapes without explicit loops.  \n",
        "\n",
        "2. **Vectorized Operations** - Eliminates the need for Python loops by applying operations directly to entire arrays, improving performance.  \n",
        "3. **Structured Arrays** - Supports heterogeneous data types within a single array, similar to a DataFrame.  \n",
        "4. **Memory Mapping (memmap)** - Allows working with large datasets stored on disk without loading them into memory.  \n",
        "5. **Fancy Indexing** - Enables advanced selection using boolean masks, arrays, or index arrays.  \n",
        "6. **Universal Functions (ufuncs)** - Optimized element-wise operations like np.sin(), np.exp(), and np.add().  \n",
        "7. **Linear Algebra (numpy.linalg)** – Provides matrix operations, eigenvalues, singular value decomposition (SVD), and more.  \n",
        "8. **Fourier Transform (numpy.fft)** – Computes Fast Fourier Transform (FFT) for signal processing.  \n",
        "9. **Random Number Generation (numpy.random)** – Generates random numbers using advanced probability distributions.  \n",
        "10. **Multi-dimensional Arrays (ndarray)** – Supports efficient operations on multi-dimensional arrays beyond standard 2D."
      ],
      "metadata": {
        "id": "PJKdCBu42UaT"
      }
    },
    {
      "cell_type": "markdown",
      "source": [
        "## Q19.  How does Pandas simplify time series analysis?"
      ],
      "metadata": {
        "id": "BZSAwF_y2WHs"
      }
    },
    {
      "cell_type": "markdown",
      "source": [
        "ANS 19.  \n",
        "\n",
        "Pandas provides powerful tools for *handling, analyzing, and visualizing* time series data efficiently. Here's how:  \n",
        "\n",
        "1. **Datetime Indexing** – pd.to_datetime() converts strings to datetime format, allowing easy indexing and filtering.\n",
        "\n",
        "2. **Resampling** - resample() enables aggregation (e.g., daily to monthly data).\n",
        "\n",
        "3. **Shifting and Lagging** - shift() moves data forward or backward for lag analysis.\n",
        "\n",
        "4. **Rolling Windows** - rolling() computes moving averages and other rolling statistics.\n",
        "\n",
        "5. **Time-Based Grouping** - groupby() with time-based bins helps summarize data efficiently.\n",
        "\n",
        "6. **Handling Missing Data** - interpolate() and fillna() handle gaps in time series.  \n",
        "\n",
        "7. **Date Range Generation** - date_range() generates sequences of dates/timestamps.\n",
        "\n",
        "8. **Time Zone Handling** - tz_localize() and tz_convert() manage time zones.  \n",
        "\n",
        "9. **Period and Frequency Conversion** - asfreq() adjusts time intervals while maintaining consistency.\n",
        "  \n",
        "10. **Built-in Plotting** - df.plot() allows easy visualization of trends and patterns."
      ],
      "metadata": {
        "id": "_tTD9qSq2dMt"
      }
    },
    {
      "cell_type": "markdown",
      "source": [
        "## Q20. What is the role of a pivot table in Pandas?"
      ],
      "metadata": {
        "id": "BSB7PSYW2gDe"
      }
    },
    {
      "cell_type": "markdown",
      "source": [
        "ANS 20.  \n",
        "\n",
        "A pivot table in Pandas is used to summarize, aggregate, and reshape data efficiently. It works similarly to Excel pivot tables but with more flexibility.  \n",
        "\n",
        "\n",
        "- **Key Roles of Pivot Tables in Pandas are listed below:**\n",
        "\n",
        "1. **Summarizing Data** - Aggregates large datasets based on specific columns.  \n",
        "2. **Grouping and Aggregation** - Uses functions like sum(), mean(), count(), etc.  \n",
        "3. **Reshaping Data** - Converts long-format data into a structured table.  \n",
        "4. **Multi-level Indexing** - Supports hierarchical indexing for complex analyses.  \n",
        "5. **Handling Missing Data** - Allows filling or ignoring NaN values.  \n",
        "\n",
        "- **Example:**  \n",
        "\n"
      ],
      "metadata": {
        "id": "fbMtuLwt2lqW"
      }
    },
    {
      "cell_type": "code",
      "source": [
        "import pandas as pd\n",
        "\n",
        "# Creating a sample DataFrame\n",
        "data = {'Department': ['HR', 'IT', 'HR', 'IT', 'Finance'],\n",
        "        'Employee': ['Dipika Padukone', 'Bobby Deol', 'Hrithik Roshan', 'David Beckham', 'Madhubala'],\n",
        "        'Salary': [50000, 70000, 55000, 80000, 60000]}\n",
        "\n",
        "df = pd.DataFrame(data)\n",
        "\n",
        "# Creating a pivot table summarizing average salary per department\n",
        "pivot_table = df.pivot_table(values='Salary', index='Department', aggfunc='mean')\n",
        "\n",
        "print(pivot_table)"
      ],
      "metadata": {
        "colab": {
          "base_uri": "https://localhost:8080/"
        },
        "id": "9FKYagphzTYH",
        "outputId": "4c36d425-9f35-4fb0-c8ff-56cbef16a1d3"
      },
      "execution_count": 1,
      "outputs": [
        {
          "output_type": "stream",
          "name": "stdout",
          "text": [
            "             Salary\n",
            "Department         \n",
            "Finance     60000.0\n",
            "HR          52500.0\n",
            "IT          75000.0\n"
          ]
        }
      ]
    },
    {
      "cell_type": "markdown",
      "source": [
        "## 21. Why is NumPy’s array slicing faster than Python’s list slicing?"
      ],
      "metadata": {
        "id": "DvLXQ5Pv2oBm"
      }
    },
    {
      "cell_type": "markdown",
      "source": [
        "ANS 21.\n",
        "\n",
        "Following are the reasons why NumPy's array slicing is faster than Python's list slicing:  \n",
        "\n",
        "1. **Views Instead of Copies** - NumPy slicing creates a \"view\" of the original array, avoiding unnecessary memory allocation, whereas Python lists create new lists when sliced.  \n",
        "2. **Contiguous Memory Storage** - NumPy arrays store elements in a contiguous block of memory, allowing faster access, while Python lists store references to objects, adding overhead.  \n",
        "3. **Optimized C and Fortran Implementation** - NumPy is implemented in low-level languages like C and Fortran, making slicing operations much faster than Python's interpreted approach.  \n",
        "4. **Vectorized Operations** - NumPy applies operations to entire slices simultaneously, whereas Python lists require explicit loops, slowing down performance.  \n",
        "5. **Lower Memory Overhead** - NumPy arrays use a fixed data type, reducing memory consumption compared to Python lists, which store heterogeneous data types."
      ],
      "metadata": {
        "id": "LRLnX6BU2xvf"
      }
    },
    {
      "cell_type": "markdown",
      "source": [
        "## Q22. What are some common use cases for Seaborn?"
      ],
      "metadata": {
        "id": "9RfwBKyh2z34"
      }
    },
    {
      "cell_type": "markdown",
      "source": [
        "ANS 22.\n",
        "\n",
        "Common use cases of Seaborn are listed following:\n",
        "\n",
        "1. **Exploring Data Distributions** - Using histograms, KDE plots, and violin plots.  \n",
        "2. **Visualizing Relationships Between Variables** - Scatter plots, regression plots, and pair plots.  \n",
        "3. **Comparing Categorical Data**- Bar plots, box plots, and swarm plots.  \n",
        "4. **Correlation Analysis** - Heatmaps for visualizing relationships between numerical features.  \n",
        "5. **Time Series Analysis** - Line plots for tracking trends over time.  \n",
        "6. **tatistical Data Visualization** - Regression plots, violin plots, and facet grids.  \n",
        "7. **Multivariable Analysis** - Pair plots to identify patterns and clusters.  \n",
        "8. **Analyzing Grouped Data** - Grouped bar plots and categorical plots.  \n",
        "9. **Distribution Comparisons** - Box plots and violin plots for comparing multiple categories.  \n",
        "10. **Advanced Customization for Publication-Ready Visuals** - Theming, color palettes, and FacetGrid for complex layouts."
      ],
      "metadata": {
        "id": "wjSLhqnp25XQ"
      }
    },
    {
      "cell_type": "markdown",
      "source": [
        "# **PRACTICAL QUESTIONS**"
      ],
      "metadata": {
        "id": "nQJ0jnau5-Ns"
      }
    },
    {
      "cell_type": "markdown",
      "source": [
        "## Q1. How do you create a 2D NumPy array and calculate the sum of each row?"
      ],
      "metadata": {
        "id": "DLn1j9sX6FZM"
      }
    },
    {
      "cell_type": "code",
      "source": [
        "import numpy as np\n",
        "\n",
        "# Creating a 2D NumPy array\n",
        "arr = np.array([[1, 2, 3],\n",
        "                [4, 5, 6],\n",
        "                [7, 8, 9]])\n",
        "\n",
        "# Calculating the sum of each row\n",
        "row_sums = np.sum(arr, axis=1)\n",
        "\n",
        "# Printng the result\n",
        "print(\"Original Array is:\")\n",
        "print(arr)\n",
        "print(\"\\nSum of Each Row:\")\n",
        "print(row_sums)"
      ],
      "metadata": {
        "colab": {
          "base_uri": "https://localhost:8080/"
        },
        "id": "6z5IW01H7V39",
        "outputId": "79353a43-f932-4ac9-9afa-2ee742f7797b"
      },
      "execution_count": null,
      "outputs": [
        {
          "output_type": "stream",
          "name": "stdout",
          "text": [
            "Original Array is:\n",
            "[[1 2 3]\n",
            " [4 5 6]\n",
            " [7 8 9]]\n",
            "\n",
            "Sum of Each Row:\n",
            "[ 6 15 24]\n"
          ]
        }
      ]
    },
    {
      "cell_type": "markdown",
      "source": [
        "# Q2. Write a Pandas script to find the mean of a specific column in a DataFrame."
      ],
      "metadata": {
        "id": "Mz2UNifI6P9d"
      }
    },
    {
      "cell_type": "code",
      "source": [
        "import pandas as pd\n",
        "\n",
        "# Creating a sample DataFrame\n",
        "data = {'Name': ['Ganga', 'Yamuna', 'Saraswati', 'Sadiqua'],\n",
        "        'Age': [25, 30, 35, 24],\n",
        "        'Salary': [50000, 60000, 70000, 80000]}\n",
        "\n",
        "df = pd.DataFrame(data)\n",
        "\n",
        "# Calculating the mean of a specific column (e.g., 'Salary')\n",
        "mean_salary = df['Salary'].mean()\n",
        "\n",
        "# Print the result\n",
        "print(df)\n",
        "print(\"Mean Salary: Rs.\", mean_salary)"
      ],
      "metadata": {
        "colab": {
          "base_uri": "https://localhost:8080/"
        },
        "id": "6HAN7YIS8QQE",
        "outputId": "af2c464c-8114-481c-b6bc-8a501ce1911b"
      },
      "execution_count": null,
      "outputs": [
        {
          "output_type": "stream",
          "name": "stdout",
          "text": [
            "        Name  Age  Salary\n",
            "0      Ganga   25   50000\n",
            "1     Yamuna   30   60000\n",
            "2  Saraswati   35   70000\n",
            "3    Sadiqua   24   80000\n",
            "Mean Salary: Rs. 65000.0\n"
          ]
        }
      ]
    },
    {
      "cell_type": "markdown",
      "source": [
        "# Q3. Create a scatter plot using Matplotlib."
      ],
      "metadata": {
        "id": "9ay8BCp76WPO"
      }
    },
    {
      "cell_type": "code",
      "source": [
        "import matplotlib.pyplot as plt\n",
        "\n",
        "# Creating a sample data\n",
        "x = [10, 20, 30, 40, 50]\n",
        "y = [5, 15, 25, 35, 45]\n",
        "\n",
        "# Creating scatter plot\n",
        "plt.scatter(x, y, color='blue', marker='*')\n",
        "\n",
        "# Labels and title\n",
        "plt.xlabel(\"X-axis\")\n",
        "plt.ylabel(\"Y-axis\")\n",
        "plt.title(\"Simple Scatter Plot\")\n",
        "\n",
        "# Show plot\n",
        "plt.show()"
      ],
      "metadata": {
        "colab": {
          "base_uri": "https://localhost:8080/",
          "height": 472
        },
        "id": "BuUVaTa89JIr",
        "outputId": "2927fda9-652d-45d8-f6a6-089d393874a8"
      },
      "execution_count": null,
      "outputs": [
        {
          "output_type": "display_data",
          "data": {
            "text/plain": [
              "<Figure size 640x480 with 1 Axes>"
            ],
            "image/png": "[encoded data removed]"
          },
          "metadata": {}
        }
      ]
    },
    {
      "cell_type": "markdown",
      "source": [
        "# Q4. How do you calculate the correlation matrix using Seaborn and visualize it with a heatmap?"
      ],
      "metadata": {
        "id": "Jb6Gndy76axP"
      }
    },
    {
      "cell_type": "code",
      "source": [
        "import seaborn as sns\n",
        "import pandas as pd\n",
        "import matplotlib.pyplot as plt\n",
        "\n",
        "# Creating a sample DataFrame\n",
        "data = {'A': [10, 20, 30, 40, 50],\n",
        "        'B': [5, 15, 25, 35, 45],\n",
        "        'C': [2, 8, 18, 28, 38]}\n",
        "\n",
        "df = pd.DataFrame(data)\n",
        "\n",
        "# Computing the correlation matrix\n",
        "corr_matrix = df.corr()\n",
        "\n",
        "# Creating a heatmap\n",
        "sns.heatmap(corr_matrix, annot=True, cmap=\"coolwarm\", fmt=\".2f\")\n",
        "\n",
        "# Showing the plot\n",
        "plt.title(\"Correlation Matrix Heatmap\")\n",
        "plt.show()"
      ],
      "metadata": {
        "colab": {
          "base_uri": "https://localhost:8080/",
          "height": 452
        },
        "id": "LuK20YcE_EeJ",
        "outputId": "346e1689-fc26-4a28-f044-6e0e17e88dbb"
      },
      "execution_count": null,
      "outputs": [
        {
          "output_type": "display_data",
          "data": {
            "text/plain": [
              "<Figure size 640x480 with 2 Axes>"
            ],
            "image/png": "[encoded data removed]"
          },
          "metadata": {}
        }
      ]
    },
    {
      "cell_type": "markdown",
      "source": [
        "# Q5. Generate a bar plot using Plotly."
      ],
      "metadata": {
        "id": "TDqGENbn6f0n"
      }
    },
    {
      "cell_type": "code",
      "source": [
        "import plotly.graph_objects as go\n",
        "\n",
        "# Creating a sample data\n",
        "x = ['Apples', 'Bananas', 'Cherries', 'Dates']\n",
        "y = [10, 15, 7, 12]\n",
        "\n",
        "# Creating the figure\n",
        "fig = go.Figure(data=[go.Bar(x=x, y=y)])\n",
        "\n",
        "# Customizing the plot\n",
        "fig.update_layout(title='Fruit Sales',\n",
        "                    xaxis_title='Fruits',\n",
        "                    yaxis_title='Sales')\n",
        "\n",
        "# Showing the plot\n",
        "fig.show()"
      ],
      "metadata": {
        "colab": {
          "base_uri": "https://localhost:8080/",
          "height": 542
        },
        "id": "b0jOJU2mAW47",
        "outputId": "8b4f7f26-66b1-468a-eedf-9f4002e9be63"
      },
      "execution_count": 4,
      "outputs": [
        {
          "output_type": "display_data",
          "data": {
            "text/html": [
              "<html>\n",
              "<head><meta charset=\"utf-8\" /></head>\n",
              "<body>\n",
              "    <div>            <script src=\"https://cdnjs.cloudflare.com/ajax/libs/mathjax/2.7.5/MathJax.js?config=TeX-AMS-MML_SVG\"></script><script type=\"text/javascript\">if (window.MathJax && window.MathJax.Hub && window.MathJax.Hub.Config) {window.MathJax.Hub.Config({SVG: {font: \"STIX-Web\"}});}</script>                <script type=\"text/javascript\">window.PlotlyConfig = {MathJaxConfig: 'local'};</script>\n",
              "        <script charset=\"utf-8\" src=\"https://cdn.plot.ly/plotly-2.35.2.min.js\"></script>                <div id=\"ae433b00-f2b9-4669-9938-95197027ed82\" class=\"plotly-graph-div\" style=\"height:525px; width:100%;\"></div>            <script type=\"text/javascript\">                                    window.PLOTLYENV=window.PLOTLYENV || {};                                    if (document.getElementById(\"ae433b00-f2b9-4669-9938-95197027ed82\")) {                    Plotly.newPlot(                        \"ae433b00-f2b9-4669-9938-95197027ed82\",                        [{\"x\":[\"Apples\",\"Bananas\",\"Cherries\",\"Dates\"],\"y\":[10,15,7,12],\"type\":\"bar\"}],                        {\"template\":{\"data\":{\"histogram2dcontour\":[{\"type\":\"histogram2dcontour\",\"colorbar\":{\"outlinewidth\":0,\"ticks\":\"\"},\"colorscale\":[[0.0,\"#0d0887\"],[0.1111111111111111,\"#46039f\"],[0.2222222222222222,\"#7201a8\"],[0.3333333333333333,\"#9c179e\"],[0.4444444444444444,\"#bd3786\"],[0.5555555555555556,\"#d8576b\"],[0.6666666666666666,\"#ed7953\"],[0.7777777777777778,\"#fb9f3a\"],[0.8888888888888888,\"#fdca26\"],[1.0,\"#f0f921\"]]}],\"choropleth\":[{\"type\":\"choropleth\",\"colorbar\":{\"outlinewidth\":0,\"ticks\":\"\"}}],\"histogram2d\":[{\"type\":\"histogram2d\",\"colorbar\":{\"outlinewidth\":0,\"ticks\":\"\"},\"colorscale\":[[0.0,\"#0d0887\"],[0.1111111111111111,\"#46039f\"],[0.2222222222222222,\"#7201a8\"],[0.3333333333333333,\"#9c179e\"],[0.4444444444444444,\"#bd3786\"],[0.5555555555555556,\"#d8576b\"],[0.6666666666666666,\"#ed7953\"],[0.7777777777777778,\"#fb9f3a\"],[0.8888888888888888,\"#fdca26\"],[1.0,\"#f0f921\"]]}],\"heatmap\":[{\"type\":\"heatmap\",\"colorbar\":{\"outlinewidth\":0,\"ticks\":\"\"},\"colorscale\":[[0.0,\"#0d0887\"],[0.1111111111111111,\"#46039f\"],[0.2222222222222222,\"#7201a8\"],[0.3333333333333333,\"#9c179e\"],[0.4444444444444444,\"#bd3786\"],[0.5555555555555556,\"#d8576b\"],[0.6666666666666666,\"#ed7953\"],[0.7777777777777778,\"#fb9f3a\"],[0.8888888888888888,\"#fdca26\"],[1.0,\"#f0f921\"]]}],\"heatmapgl\":[{\"type\":\"heatmapgl\",\"colorbar\":{\"outlinewidth\":0,\"ticks\":\"\"},\"colorscale\":[[0.0,\"#0d0887\"],[0.1111111111111111,\"#46039f\"],[0.2222222222222222,\"#7201a8\"],[0.3333333333333333,\"#9c179e\"],[0.4444444444444444,\"#bd3786\"],[0.5555555555555556,\"#d8576b\"],[0.6666666666666666,\"#ed7953\"],[0.7777777777777778,\"#fb9f3a\"],[0.8888888888888888,\"#fdca26\"],[1.0,\"#f0f921\"]]}],\"contourcarpet\":[{\"type\":\"contourcarpet\",\"colorbar\":{\"outlinewidth\":0,\"ticks\":\"\"}}],\"contour\":[{\"type\":\"contour\",\"colorbar\":{\"outlinewidth\":0,\"ticks\":\"\"},\"colorscale\":[[0.0,\"#0d0887\"],[0.1111111111111111,\"#46039f\"],[0.2222222222222222,\"#7201a8\"],[0.3333333333333333,\"#9c179e\"],[0.4444444444444444,\"#bd3786\"],[0.5555555555555556,\"#d8576b\"],[0.6666666666666666,\"#ed7953\"],[0.7777777777777778,\"#fb9f3a\"],[0.8888888888888888,\"#fdca26\"],[1.0,\"#f0f921\"]]}],\"surface\":[{\"type\":\"surface\",\"colorbar\":{\"outlinewidth\":0,\"ticks\":\"\"},\"colorscale\":[[0.0,\"#0d0887\"],[0.1111111111111111,\"#46039f\"],[0.2222222222222222,\"#7201a8\"],[0.3333333333333333,\"#9c179e\"],[0.4444444444444444,\"#bd3786\"],[0.5555555555555556,\"#d8576b\"],[0.6666666666666666,\"#ed7953\"],[0.7777777777777778,\"#fb9f3a\"],[0.8888888888888888,\"#fdca26\"],[1.0,\"#f0f921\"]]}],\"mesh3d\":[{\"type\":\"mesh3d\",\"colorbar\":{\"outlinewidth\":0,\"ticks\":\"\"}}],\"scatter\":[{\"fillpattern\":{\"fillmode\":\"overlay\",\"size\":10,\"solidity\":0.2},\"type\":\"scatter\"}],\"parcoords\":[{\"type\":\"parcoords\",\"line\":{\"colorbar\":{\"outlinewidth\":0,\"ticks\":\"\"}}}],\"scatterpolargl\":[{\"type\":\"scatterpolargl\",\"marker\":{\"colorbar\":{\"outlinewidth\":0,\"ticks\":\"\"}}}],\"bar\":[{\"error_x\":{\"color\":\"#2a3f5f\"},\"error_y\":{\"color\":\"#2a3f5f\"},\"marker\":{\"line\":{\"color\":\"#E5ECF6\",\"width\":0.5},\"pattern\":{\"fillmode\":\"overlay\",\"size\":10,\"solidity\":0.2}},\"type\":\"bar\"}],\"scattergeo\":[{\"type\":\"scattergeo\",\"marker\":{\"colorbar\":{\"outlinewidth\":0,\"ticks\":\"\"}}}],\"scatterpolar\":[{\"type\":\"scatterpolar\",\"marker\":{\"colorbar\":{\"outlinewidth\":0,\"ticks\":\"\"}}}],\"histogram\":[{\"marker\":{\"pattern\":{\"fillmode\":\"overlay\",\"size\":10,\"solidity\":0.2}},\"type\":\"histogram\"}],\"scattergl\":[{\"type\":\"scattergl\",\"marker\":{\"colorbar\":{\"outlinewidth\":0,\"ticks\":\"\"}}}],\"scatter3d\":[{\"type\":\"scatter3d\",\"line\":{\"colorbar\":{\"outlinewidth\":0,\"ticks\":\"\"}},\"marker\":{\"colorbar\":{\"outlinewidth\":0,\"ticks\":\"\"}}}],\"scattermapbox\":[{\"type\":\"scattermapbox\",\"marker\":{\"colorbar\":{\"outlinewidth\":0,\"ticks\":\"\"}}}],\"scatterternary\":[{\"type\":\"scatterternary\",\"marker\":{\"colorbar\":{\"outlinewidth\":0,\"ticks\":\"\"}}}],\"scattercarpet\":[{\"type\":\"scattercarpet\",\"marker\":{\"colorbar\":{\"outlinewidth\":0,\"ticks\":\"\"}}}],\"carpet\":[{\"aaxis\":{\"endlinecolor\":\"#2a3f5f\",\"gridcolor\":\"white\",\"linecolor\":\"white\",\"minorgridcolor\":\"white\",\"startlinecolor\":\"#2a3f5f\"},\"baxis\":{\"endlinecolor\":\"#2a3f5f\",\"gridcolor\":\"white\",\"linecolor\":\"white\",\"minorgridcolor\":\"white\",\"startlinecolor\":\"#2a3f5f\"},\"type\":\"carpet\"}],\"table\":[{\"cells\":{\"fill\":{\"color\":\"#EBF0F8\"},\"line\":{\"color\":\"white\"}},\"header\":{\"fill\":{\"color\":\"#C8D4E3\"},\"line\":{\"color\":\"white\"}},\"type\":\"table\"}],\"barpolar\":[{\"marker\":{\"line\":{\"color\":\"#E5ECF6\",\"width\":0.5},\"pattern\":{\"fillmode\":\"overlay\",\"size\":10,\"solidity\":0.2}},\"type\":\"barpolar\"}],\"pie\":[{\"automargin\":true,\"type\":\"pie\"}]},\"layout\":{\"autotypenumbers\":\"strict\",\"colorway\":[\"#636efa\",\"#EF553B\",\"#00cc96\",\"#ab63fa\",\"#FFA15A\",\"#19d3f3\",\"#FF6692\",\"#B6E880\",\"#FF97FF\",\"#FECB52\"],\"font\":{\"color\":\"#2a3f5f\"},\"hovermode\":\"closest\",\"hoverlabel\":{\"align\":\"left\"},\"paper_bgcolor\":\"white\",\"plot_bgcolor\":\"#E5ECF6\",\"polar\":{\"bgcolor\":\"#E5ECF6\",\"angularaxis\":{\"gridcolor\":\"white\",\"linecolor\":\"white\",\"ticks\":\"\"},\"radialaxis\":{\"gridcolor\":\"white\",\"linecolor\":\"white\",\"ticks\":\"\"}},\"ternary\":{\"bgcolor\":\"#E5ECF6\",\"aaxis\":{\"gridcolor\":\"white\",\"linecolor\":\"white\",\"ticks\":\"\"},\"baxis\":{\"gridcolor\":\"white\",\"linecolor\":\"white\",\"ticks\":\"\"},\"caxis\":{\"gridcolor\":\"white\",\"linecolor\":\"white\",\"ticks\":\"\"}},\"coloraxis\":{\"colorbar\":{\"outlinewidth\":0,\"ticks\":\"\"}},\"colorscale\":{\"sequential\":[[0.0,\"#0d0887\"],[0.1111111111111111,\"#46039f\"],[0.2222222222222222,\"#7201a8\"],[0.3333333333333333,\"#9c179e\"],[0.4444444444444444,\"#bd3786\"],[0.5555555555555556,\"#d8576b\"],[0.6666666666666666,\"#ed7953\"],[0.7777777777777778,\"#fb9f3a\"],[0.8888888888888888,\"#fdca26\"],[1.0,\"#f0f921\"]],\"sequentialminus\":[[0.0,\"#0d0887\"],[0.1111111111111111,\"#46039f\"],[0.2222222222222222,\"#7201a8\"],[0.3333333333333333,\"#9c179e\"],[0.4444444444444444,\"#bd3786\"],[0.5555555555555556,\"#d8576b\"],[0.6666666666666666,\"#ed7953\"],[0.7777777777777778,\"#fb9f3a\"],[0.8888888888888888,\"#fdca26\"],[1.0,\"#f0f921\"]],\"diverging\":[[0,\"#8e0152\"],[0.1,\"#c51b7d\"],[0.2,\"#de77ae\"],[0.3,\"#f1b6da\"],[0.4,\"#fde0ef\"],[0.5,\"#f7f7f7\"],[0.6,\"#e6f5d0\"],[0.7,\"#b8e186\"],[0.8,\"#7fbc41\"],[0.9,\"#4d9221\"],[1,\"#276419\"]]},\"xaxis\":{\"gridcolor\":\"white\",\"linecolor\":\"white\",\"ticks\":\"\",\"title\":{\"standoff\":15},\"zerolinecolor\":\"white\",\"automargin\":true,\"zerolinewidth\":2},\"yaxis\":{\"gridcolor\":\"white\",\"linecolor\":\"white\",\"ticks\":\"\",\"title\":{\"standoff\":15},\"zerolinecolor\":\"white\",\"automargin\":true,\"zerolinewidth\":2},\"scene\":{\"xaxis\":{\"backgroundcolor\":\"#E5ECF6\",\"gridcolor\":\"white\",\"linecolor\":\"white\",\"showbackground\":true,\"ticks\":\"\",\"zerolinecolor\":\"white\",\"gridwidth\":2},\"yaxis\":{\"backgroundcolor\":\"#E5ECF6\",\"gridcolor\":\"white\",\"linecolor\":\"white\",\"showbackground\":true,\"ticks\":\"\",\"zerolinecolor\":\"white\",\"gridwidth\":2},\"zaxis\":{\"backgroundcolor\":\"#E5ECF6\",\"gridcolor\":\"white\",\"linecolor\":\"white\",\"showbackground\":true,\"ticks\":\"\",\"zerolinecolor\":\"white\",\"gridwidth\":2}},\"shapedefaults\":{\"line\":{\"color\":\"#2a3f5f\"}},\"annotationdefaults\":{\"arrowcolor\":\"#2a3f5f\",\"arrowhead\":0,\"arrowwidth\":1},\"geo\":{\"bgcolor\":\"white\",\"landcolor\":\"#E5ECF6\",\"subunitcolor\":\"white\",\"showland\":true,\"showlakes\":true,\"lakecolor\":\"white\"},\"title\":{\"x\":0.05},\"mapbox\":{\"style\":\"light\"}}},\"title\":{\"text\":\"Fruit Sales\"},\"xaxis\":{\"title\":{\"text\":\"Fruits\"}},\"yaxis\":{\"title\":{\"text\":\"Sales\"}}},                        {\"responsive\": true}                    ).then(function(){\n",
              "                            \n",
              "var gd = document.getElementById('ae433b00-f2b9-4669-9938-95197027ed82');\n",
              "var x = new MutationObserver(function (mutations, observer) {{\n",
              "        var display = window.getComputedStyle(gd).display;\n",
              "        if (!display || display === 'none') {{\n",
              "            console.log([gd, 'removed!']);\n",
              "            Plotly.purge(gd);\n",
              "            observer.disconnect();\n",
              "        }}\n",
              "}});\n",
              "\n",
              "// Listen for the removal of the full notebook cells\n",
              "var notebookContainer = gd.closest('#notebook-container');\n",
              "if (notebookContainer) {{\n",
              "    x.observe(notebookContainer, {childList: true});\n",
              "}}\n",
              "\n",
              "// Listen for the clearing of the current output cell\n",
              "var outputEl = gd.closest('.output');\n",
              "if (outputEl) {{\n",
              "    x.observe(outputEl, {childList: true});\n",
              "}}\n",
              "\n",
              "                        })                };                            </script>        </div>\n",
              "</body>\n",
              "</html>"
            ]
          },
          "metadata": {}
        }
      ]
    },
    {
      "cell_type": "markdown",
      "source": [
        "# Q6. Create a DataFrame and add a new column based on an existing column."
      ],
      "metadata": {
        "id": "tVBzTORA6jEv"
      }
    },
    {
      "cell_type": "code",
      "source": [
        "import pandas as pd\n",
        "\n",
        "# Creating a sample DataFrame\n",
        "data = {'Name': ['Ganga', 'Yamuna', 'Saraswati', 'Sadiqua'],\n",
        "        'Age': [40, 15, 20, 24]}\n",
        "\n",
        "df = pd.DataFrame(data)\n",
        "\n",
        "# Adding a new column based on an existing column\n",
        "df['Age Group'] = df['Age'].apply(lambda x: 'Young' if x < 20 else 'Adult')\n",
        "\n",
        "# Printing the updated DataFrame\n",
        "print(df)"
      ],
      "metadata": {
        "colab": {
          "base_uri": "https://localhost:8080/"
        },
        "id": "Nja75-umA-_J",
        "outputId": "27ae5af2-e7bc-4615-b696-38dd06ae68f4"
      },
      "execution_count": null,
      "outputs": [
        {
          "output_type": "stream",
          "name": "stdout",
          "text": [
            "        Name  Age Age Group\n",
            "0      Ganga   40     Adult\n",
            "1     Yamuna   15     Young\n",
            "2  Saraswati   20     Adult\n",
            "3    Sadiqua   24     Adult\n"
          ]
        }
      ]
    },
    {
      "cell_type": "markdown",
      "source": [
        "# Q7. Write a program to perform element-wise multiplication of two NumPy arrays."
      ],
      "metadata": {
        "id": "8CqkHr-w6oGI"
      }
    },
    {
      "cell_type": "code",
      "source": [
        "import numpy as np\n",
        "\n",
        "# Creating two arrays\n",
        "arr1 = np.array([[1, 2, 3],\n",
        "                 [4, 5, 6],\n",
        "                 [7, 8, 9]])\n",
        "\n",
        "arr2 = np.array([[9, 8, 7],\n",
        "                 [6, 5, 4],\n",
        "                 [3, 2, 1]])\n",
        "\n",
        "# Performing element-wise multiplication\n",
        "arr1 * arr2"
      ],
      "metadata": {
        "colab": {
          "base_uri": "https://localhost:8080/"
        },
        "id": "vgaMULMcB-e-",
        "outputId": "c45a6846-1ce6-4771-8b72-080075b80768"
      },
      "execution_count": null,
      "outputs": [
        {
          "output_type": "execute_result",
          "data": {
            "text/plain": [
              "array([[ 9, 16, 21],\n",
              "       [24, 25, 24],\n",
              "       [21, 16,  9]])"
            ]
          },
          "metadata": {},
          "execution_count": 24
        }
      ]
    },
    {
      "cell_type": "markdown",
      "source": [
        "# Q8. Create a line plot with multiple lines using Matplotlib."
      ],
      "metadata": {
        "id": "uFfGCtjw6sqR"
      }
    },
    {
      "cell_type": "code",
      "source": [
        "import matplotlib.pyplot as plt\n",
        "\n",
        "# Sample data\n",
        "x = [1, 2, 3, 4, 5]\n",
        "y1 = [10, 15, 20, 25, 30]\n",
        "y2 = [5, 10, 15, 20, 25]\n",
        "y3 = [9, 18, 27, 36, 45]\n",
        "\n",
        "\n",
        "# Create line plot with multiple lines\n",
        "plt.plot(x, y1, label=\"Line 1\", marker='o', linestyle='-', color='blue')\n",
        "plt.plot(x, y2, label=\"Line 2\", marker='o', linestyle='-', color='red')\n",
        "plt.plot(x, y3, label=\"Line 3\", marker='o', linestyle='-', color='purple')\n",
        "\n",
        "# Labels and title\n",
        "plt.xlabel(\"X-axis\")\n",
        "plt.ylabel(\"Y-axis\")\n",
        "plt.title(\"Multiple Line Plot\")\n",
        "\n",
        "# Show legend\n",
        "plt.legend()\n",
        "\n",
        "# Show plot\n",
        "plt.show()"
      ],
      "metadata": {
        "colab": {
          "base_uri": "https://localhost:8080/",
          "height": 472
        },
        "id": "cGWGjfXGDbI6",
        "outputId": "a8ec4ae1-d419-4389-c132-2febe1f0c5f0"
      },
      "execution_count": null,
      "outputs": [
        {
          "output_type": "display_data",
          "data": {
            "text/plain": [
              "<Figure size 640x480 with 1 Axes>"
            ],
            "image/png": "[encoded data removed]"
          },
          "metadata": {}
        }
      ]
    },
    {
      "cell_type": "markdown",
      "source": [
        "# Q9. Generate a Pandas DataFrame and filter rows where a column value is greater than a threshold."
      ],
      "metadata": {
        "id": "eloiQ7ET6xC5"
      }
    },
    {
      "cell_type": "code",
      "source": [
        "import pandas as pd\n",
        "\n",
        "# Create a sample DataFrame\n",
        "data = {'Name': ['Ganga', 'Yamuna', 'Saraswati', 'Sadiqua', 'Namrata'],\n",
        "        'Age': [40, 15, 20, 24, 25]}\n",
        "\n",
        "df = pd.DataFrame(data)\n",
        "\n",
        "# Set threshold value\n",
        "threshold = 23\n",
        "\n",
        "# Filter rows where 'Age' is greater than the threshold\n",
        "filtered_df = df[df['Age'] > threshold]\n",
        "\n",
        "# Print the filtered DataFrame\n",
        "print(filtered_df)"
      ],
      "metadata": {
        "colab": {
          "base_uri": "https://localhost:8080/"
        },
        "id": "breeVfMKEwxM",
        "outputId": "0bdc171c-091d-46c1-fb17-fb6992cb7e64"
      },
      "execution_count": null,
      "outputs": [
        {
          "output_type": "stream",
          "name": "stdout",
          "text": [
            "      Name  Age\n",
            "0    Ganga   40\n",
            "3  Sadiqua   24\n",
            "4  Namrata   25\n"
          ]
        }
      ]
    },
    {
      "cell_type": "markdown",
      "source": [
        "# Q10. Create a histogram using Seaborn to visualize a distribution."
      ],
      "metadata": {
        "id": "5NUgtumP66cb"
      }
    },
    {
      "cell_type": "code",
      "source": [
        "import seaborn as sns\n",
        "import matplotlib.pyplot as plt\n",
        "import numpy as np\n",
        "\n",
        "# Generating sample data\n",
        "data = np.random.randn(1000)  # 1000 random values from a normal distribution\n",
        "\n",
        "# Creating histogram using seaborn\n",
        "sns.histplot(data, bins=40, kde=True, color='brown')\n",
        "\n",
        "# Labels and title\n",
        "plt.xlabel(\"Value\")\n",
        "plt.ylabel(\"Frequency\")\n",
        "plt.title(\"Distribution Histogram\")\n",
        "\n",
        "# Show plot\n",
        "plt.show()"
      ],
      "metadata": {
        "colab": {
          "base_uri": "https://localhost:8080/",
          "height": 472
        },
        "id": "ZR2FfNynGQpn",
        "outputId": "dc0be655-3a90-4436-dc7b-8b4d956c3fb2"
      },
      "execution_count": null,
      "outputs": [
        {
          "output_type": "display_data",
          "data": {
            "text/plain": [
              "<Figure size 640x480 with 1 Axes>"
            ],
            "image/png": "[encoded data removed]"
          },
          "metadata": {}
        }
      ]
    },
    {
      "cell_type": "markdown",
      "source": [
        "# Q11. Perform matrix multiplication using NumPy."
      ],
      "metadata": {
        "id": "1Ika7CIo7DQj"
      }
    },
    {
      "cell_type": "code",
      "source": [
        "import numpy as np\n",
        "\n",
        "# Defining two matrices\n",
        "A = np.array([[1, 2],\n",
        "              [3, 4]])\n",
        "\n",
        "B = np.array([[5, 6],\n",
        "              [7, 8]])\n",
        "\n",
        "# Performing matrix multiplication\n",
        "result = np.matmul(A, B)  # OR result = A @ B\n",
        "\n",
        "# Printing the result\n",
        "print(\"Matrix A is:\\n\", A)\n",
        "print(\"\\nMatrix B is:\\n\", B)\n",
        "print(\"\\nMatrix Multiplication Result:\\n\", result)"
      ],
      "metadata": {
        "colab": {
          "base_uri": "https://localhost:8080/"
        },
        "id": "oHr3dYGZH78V",
        "outputId": "293c47bb-97b1-4815-bc7b-e2103c09ba5c"
      },
      "execution_count": null,
      "outputs": [
        {
          "output_type": "stream",
          "name": "stdout",
          "text": [
            "Matrix A is:\n",
            " [[1 2]\n",
            " [3 4]]\n",
            "\n",
            "Matrix B is:\n",
            " [[5 6]\n",
            " [7 8]]\n",
            "\n",
            "Matrix Multiplication Result:\n",
            " [[19 22]\n",
            " [43 50]]\n"
          ]
        }
      ]
    },
    {
      "cell_type": "markdown",
      "source": [
        "# Q12. Use Pandas to load a CSV file and display its first 5 rows."
      ],
      "metadata": {
        "id": "oTZsxnzU7HJM"
      }
    },
    {
      "cell_type": "code",
      "source": [
        "import pandas as pd\n",
        "\n",
        "# Loading csv file into a DataFrame\n",
        "df = pd.read_csv(\"file.csv\" )\n",
        "\n",
        "# Displaying first five rows\n",
        "df.head()"
      ],
      "metadata": {
        "colab": {
          "base_uri": "https://localhost:8080/",
          "height": 672
        },
        "id": "3Kuo-r6CIyUS",
        "outputId": "d10e6b8c-2bac-4d68-b749-7954699d0bf3"
      },
      "execution_count": null,
      "outputs": [
        {
          "output_type": "execute_result",
          "data": {
            "text/plain": [
              "   id  location_id  program_id accepted_payments alternate_name  \\\n",
              "0   1            1         NaN               NaN            NaN   \n",
              "1   2            2         NaN               NaN            NaN   \n",
              "2   3            3         NaN               NaN            NaN   \n",
              "3   4            4         NaN               NaN            NaN   \n",
              "4   5            5         NaN               NaN            NaN   \n",
              "\n",
              "                           application_process  \\\n",
              "0                   Walk in or apply by phone.   \n",
              "1           Apply by phone for an appointment.   \n",
              "2  Phone for information (403-4300 Ext. 4322).   \n",
              "3                              Apply by phone.   \n",
              "4                       Phone for information.   \n",
              "\n",
              "                                            audience  \\\n",
              "0  Older adults age 55 or over, ethnic minorities...   \n",
              "1       Residents of San Mateo County age 55 or over   \n",
              "2  Older adults age 55 or over who can benefit fr...   \n",
              "3  Parents, children, families with problems of c...   \n",
              "4  Low-income working families with children tran...   \n",
              "\n",
              "                                         description  \\\n",
              "0  A walk-in center for older adults that provide...   \n",
              "1  Provides training and job placement to eligibl...   \n",
              "2  Offers supportive counseling services to San M...   \n",
              "3  Provides supervised visitation services and a ...   \n",
              "4  Provides fixed 8% short term loans to eligible...   \n",
              "\n",
              "                                         eligibility email  ...  \\\n",
              "0  Age 55 or over for most programs, age 60 or ov...   NaN  ...   \n",
              "1  Age 55 or over, county resident and willing an...   NaN  ...   \n",
              "2        Resident of San Mateo County age 55 or over   NaN  ...   \n",
              "3                                                NaN   NaN  ...   \n",
              "4  Eligibility: Low-income family with legal cust...   NaN  ...   \n",
              "\n",
              "  interpretation_services                                           keywords  \\\n",
              "0                     NaN  ADULT PROTECTION AND CARE SERVICES, Meal Sites...   \n",
              "1                     NaN  EMPLOYMENT/TRAINING SERVICES, Job Development,...   \n",
              "2                     NaN  Geriatric Counseling, Older Adults, Gay, Lesbi...   \n",
              "3                     NaN  INDIVIDUAL AND FAMILY DEVELOPMENT SERVICES, Gr...   \n",
              "4                     NaN     COMMUNITY SERVICES, Speakers, Automobile Loans   \n",
              "\n",
              "  languages                               name required_documents  \\\n",
              "0       NaN    Fair Oaks Adult Activity Center                NaN   \n",
              "1       NaN   Second Career Employment Program                NaN   \n",
              "2       NaN             Senior Peer Counseling                NaN   \n",
              "3       NaN           Family Visitation Center                NaN   \n",
              "4       NaN  Economic Self-Sufficiency Program                NaN   \n",
              "\n",
              "      service_areas  status wait_time website taxonomy_ids  \n",
              "0             Colma  active  No wait.     NaN          NaN  \n",
              "1  San Mateo County  active   Varies.     NaN          NaN  \n",
              "2  San Mateo County  active   Varies.     NaN          NaN  \n",
              "3  San Mateo County  active  No wait.     NaN          NaN  \n",
              "4  San Mateo County  active       NaN     NaN          NaN  \n",
              "\n",
              "[5 rows x 22 columns]"
            ],
            "text/html": [
              "\n",
              "  <div id=\"df-89443133-3d65-4582-a1cf-aa175299f5d9\" class=\"colab-df-container\">\n",
              "    <div>\n",
              "<style scoped>\n",
              "    .dataframe tbody tr th:only-of-type {\n",
              "        vertical-align: middle;\n",
              "    }\n",
              "\n",
              "    .dataframe tbody tr th {\n",
              "        vertical-align: top;\n",
              "    }\n",
              "\n",
              "    .dataframe thead th {\n",
              "        text-align: right;\n",
              "    }\n",
              "</style>\n",
              "<table border=\"1\" class=\"dataframe\">\n",
              "  <thead>\n",
              "    <tr style=\"text-align: right;\">\n",
              "      <th></th>\n",
              "      <th>id</th>\n",
              "      <th>location_id</th>\n",
              "      <th>program_id</th>\n",
              "      <th>accepted_payments</th>\n",
              "      <th>alternate_name</th>\n",
              "      <th>application_process</th>\n",
              "      <th>audience</th>\n",
              "      <th>description</th>\n",
              "      <th>eligibility</th>\n",
              "      <th>email</th>\n",
              "      <th>...</th>\n",
              "      <th>interpretation_services</th>\n",
              "      <th>keywords</th>\n",
              "      <th>languages</th>\n",
              "      <th>name</th>\n",
              "      <th>required_documents</th>\n",
              "      <th>service_areas</th>\n",
              "      <th>status</th>\n",
              "      <th>wait_time</th>\n",
              "      <th>website</th>\n",
              "      <th>taxonomy_ids</th>\n",
              "    </tr>\n",
              "  </thead>\n",
              "  <tbody>\n",
              "    <tr>\n",
              "      <th>0</th>\n",
              "      <td>1</td>\n",
              "      <td>1</td>\n",
              "      <td>NaN</td>\n",
              "      <td>NaN</td>\n",
              "      <td>NaN</td>\n",
              "      <td>Walk in or apply by phone.</td>\n",
              "      <td>Older adults age 55 or over, ethnic minorities...</td>\n",
              "      <td>A walk-in center for older adults that provide...</td>\n",
              "      <td>Age 55 or over for most programs, age 60 or ov...</td>\n",
              "      <td>NaN</td>\n",
              "      <td>...</td>\n",
              "      <td>NaN</td>\n",
              "      <td>ADULT PROTECTION AND CARE SERVICES, Meal Sites...</td>\n",
              "      <td>NaN</td>\n",
              "      <td>Fair Oaks Adult Activity Center</td>\n",
              "      <td>NaN</td>\n",
              "      <td>Colma</td>\n",
              "      <td>active</td>\n",
              "      <td>No wait.</td>\n",
              "      <td>NaN</td>\n",
              "      <td>NaN</td>\n",
              "    </tr>\n",
              "    <tr>\n",
              "      <th>1</th>\n",
              "      <td>2</td>\n",
              "      <td>2</td>\n",
              "      <td>NaN</td>\n",
              "      <td>NaN</td>\n",
              "      <td>NaN</td>\n",
              "      <td>Apply by phone for an appointment.</td>\n",
              "      <td>Residents of San Mateo County age 55 or over</td>\n",
              "      <td>Provides training and job placement to eligibl...</td>\n",
              "      <td>Age 55 or over, county resident and willing an...</td>\n",
              "      <td>NaN</td>\n",
              "      <td>...</td>\n",
              "      <td>NaN</td>\n",
              "      <td>EMPLOYMENT/TRAINING SERVICES, Job Development,...</td>\n",
              "      <td>NaN</td>\n",
              "      <td>Second Career Employment Program</td>\n",
              "      <td>NaN</td>\n",
              "      <td>San Mateo County</td>\n",
              "      <td>active</td>\n",
              "      <td>Varies.</td>\n",
              "      <td>NaN</td>\n",
              "      <td>NaN</td>\n",
              "    </tr>\n",
              "    <tr>\n",
              "      <th>2</th>\n",
              "      <td>3</td>\n",
              "      <td>3</td>\n",
              "      <td>NaN</td>\n",
              "      <td>NaN</td>\n",
              "      <td>NaN</td>\n",
              "      <td>Phone for information (403-4300 Ext. 4322).</td>\n",
              "      <td>Older adults age 55 or over who can benefit fr...</td>\n",
              "      <td>Offers supportive counseling services to San M...</td>\n",
              "      <td>Resident of San Mateo County age 55 or over</td>\n",
              "      <td>NaN</td>\n",
              "      <td>...</td>\n",
              "      <td>NaN</td>\n",
              "      <td>Geriatric Counseling, Older Adults, Gay, Lesbi...</td>\n",
              "      <td>NaN</td>\n",
              "      <td>Senior Peer Counseling</td>\n",
              "      <td>NaN</td>\n",
              "      <td>San Mateo County</td>\n",
              "      <td>active</td>\n",
              "      <td>Varies.</td>\n",
              "      <td>NaN</td>\n",
              "      <td>NaN</td>\n",
              "    </tr>\n",
              "    <tr>\n",
              "      <th>3</th>\n",
              "      <td>4</td>\n",
              "      <td>4</td>\n",
              "      <td>NaN</td>\n",
              "      <td>NaN</td>\n",
              "      <td>NaN</td>\n",
              "      <td>Apply by phone.</td>\n",
              "      <td>Parents, children, families with problems of c...</td>\n",
              "      <td>Provides supervised visitation services and a ...</td>\n",
              "      <td>NaN</td>\n",
              "      <td>NaN</td>\n",
              "      <td>...</td>\n",
              "      <td>NaN</td>\n",
              "      <td>INDIVIDUAL AND FAMILY DEVELOPMENT SERVICES, Gr...</td>\n",
              "      <td>NaN</td>\n",
              "      <td>Family Visitation Center</td>\n",
              "      <td>NaN</td>\n",
              "      <td>San Mateo County</td>\n",
              "      <td>active</td>\n",
              "      <td>No wait.</td>\n",
              "      <td>NaN</td>\n",
              "      <td>NaN</td>\n",
              "    </tr>\n",
              "    <tr>\n",
              "      <th>4</th>\n",
              "      <td>5</td>\n",
              "      <td>5</td>\n",
              "      <td>NaN</td>\n",
              "      <td>NaN</td>\n",
              "      <td>NaN</td>\n",
              "      <td>Phone for information.</td>\n",
              "      <td>Low-income working families with children tran...</td>\n",
              "      <td>Provides fixed 8% short term loans to eligible...</td>\n",
              "      <td>Eligibility: Low-income family with legal cust...</td>\n",
              "      <td>NaN</td>\n",
              "      <td>...</td>\n",
              "      <td>NaN</td>\n",
              "      <td>COMMUNITY SERVICES, Speakers, Automobile Loans</td>\n",
              "      <td>NaN</td>\n",
              "      <td>Economic Self-Sufficiency Program</td>\n",
              "      <td>NaN</td>\n",
              "      <td>San Mateo County</td>\n",
              "      <td>active</td>\n",
              "      <td>NaN</td>\n",
              "      <td>NaN</td>\n",
              "      <td>NaN</td>\n",
              "    </tr>\n",
              "  </tbody>\n",
              "</table>\n",
              "<p>5 rows × 22 columns</p>\n",
              "</div>\n",
              "    <div class=\"colab-df-buttons\">\n",
              "\n",
              "  <div class=\"colab-df-container\">\n",
              "    <button class=\"colab-df-convert\" onclick=\"convertToInteractive('df-89443133-3d65-4582-a1cf-aa175299f5d9')\"\n",
              "            title=\"Convert this dataframe to an interactive table.\"\n",
              "            style=\"display:none;\">\n",
              "\n",
              "  <svg xmlns=\"http://www.w3.org/2000/svg\" height=\"24px\" viewBox=\"0 -960 960 960\">\n",
              "    <path d=\"M120-120v-720h720v720H120Zm60-500h600v-160H180v160Zm220 220h160v-160H400v160Zm0 220h160v-160H400v160ZM180-400h160v-160H180v160Zm440 0h160v-160H620v160ZM180-180h160v-160H180v160Zm440 0h160v-160H620v160Z\"/>\n",
              "  </svg>\n",
              "    </button>\n",
              "\n",
              "  <style>\n",
              "    .colab-df-container {\n",
              "      display:flex;\n",
              "      gap: 12px;\n",
              "    }\n",
              "\n",
              "    .colab-df-convert {\n",
              "      background-color: #E8F0FE;\n",
              "      border: none;\n",
              "      border-radius: 50%;\n",
              "      cursor: pointer;\n",
              "      display: none;\n",
              "      fill: #1967D2;\n",
              "      height: 32px;\n",
              "      padding: 0 0 0 0;\n",
              "      width: 32px;\n",
              "    }\n",
              "\n",
              "    .colab-df-convert:hover {\n",
              "      background-color: #E2EBFA;\n",
              "      box-shadow: 0px 1px 2px rgba(60, 64, 67, 0.3), 0px 1px 3px 1px rgba(60, 64, 67, 0.15);\n",
              "      fill: #174EA6;\n",
              "    }\n",
              "\n",
              "    .colab-df-buttons div {\n",
              "      margin-bottom: 4px;\n",
              "    }\n",
              "\n",
              "    [theme=dark] .colab-df-convert {\n",
              "      background-color: #3B4455;\n",
              "      fill: #D2E3FC;\n",
              "    }\n",
              "\n",
              "    [theme=dark] .colab-df-convert:hover {\n",
              "      background-color: #434B5C;\n",
              "      box-shadow: 0px 1px 3px 1px rgba(0, 0, 0, 0.15);\n",
              "      filter: drop-shadow(0px 1px 2px rgba(0, 0, 0, 0.3));\n",
              "      fill: #FFFFFF;\n",
              "    }\n",
              "  </style>\n",
              "\n",
              "    <script>\n",
              "      const buttonEl =\n",
              "        document.querySelector('#df-89443133-3d65-4582-a1cf-aa175299f5d9 button.colab-df-convert');\n",
              "      buttonEl.style.display =\n",
              "        google.colab.kernel.accessAllowed ? 'block' : 'none';\n",
              "\n",
              "      async function convertToInteractive(key) {\n",
              "        const element = document.querySelector('#df-89443133-3d65-4582-a1cf-aa175299f5d9');\n",
              "        const dataTable =\n",
              "          await google.colab.kernel.invokeFunction('convertToInteractive',\n",
              "                                                    [key], {});\n",
              "        if (!dataTable) return;\n",
              "\n",
              "        const docLinkHtml = 'Like what you see? Visit the ' +\n",
              "          '<a target=\"_blank\" href=https://colab.research.google.com/notebooks/data_table.ipynb>data table notebook</a>'\n",
              "          + ' to learn more about interactive tables.';\n",
              "        element.innerHTML = '';\n",
              "        dataTable['output_type'] = 'display_data';\n",
              "        await google.colab.output.renderOutput(dataTable, element);\n",
              "        const docLink = document.createElement('div');\n",
              "        docLink.innerHTML = docLinkHtml;\n",
              "        element.appendChild(docLink);\n",
              "      }\n",
              "    </script>\n",
              "  </div>\n",
              "\n",
              "\n",
              "<div id=\"df-5a929bf3-1e93-4644-95f6-c35f901a138e\">\n",
              "  <button class=\"colab-df-quickchart\" onclick=\"quickchart('df-5a929bf3-1e93-4644-95f6-c35f901a138e')\"\n",
              "            title=\"Suggest charts\"\n",
              "            style=\"display:none;\">\n",
              "\n",
              "<svg xmlns=\"http://www.w3.org/2000/svg\" height=\"24px\"viewBox=\"0 0 24 24\"\n",
              "     width=\"24px\">\n",
              "    <g>\n",
              "        <path d=\"M19 3H5c-1.1 0-2 .9-2 2v14c0 1.1.9 2 2 2h14c1.1 0 2-.9 2-2V5c0-1.1-.9-2-2-2zM9 17H7v-7h2v7zm4 0h-2V7h2v10zm4 0h-2v-4h2v4z\"/>\n",
              "    </g>\n",
              "</svg>\n",
              "  </button>\n",
              "\n",
              "<style>\n",
              "  .colab-df-quickchart {\n",
              "      --bg-color: #E8F0FE;\n",
              "      --fill-color: #1967D2;\n",
              "      --hover-bg-color: #E2EBFA;\n",
              "      --hover-fill-color: #174EA6;\n",
              "      --disabled-fill-color: #AAA;\n",
              "      --disabled-bg-color: #DDD;\n",
              "  }\n",
              "\n",
              "  [theme=dark] .colab-df-quickchart {\n",
              "      --bg-color: #3B4455;\n",
              "      --fill-color: #D2E3FC;\n",
              "      --hover-bg-color: #434B5C;\n",
              "      --hover-fill-color: #FFFFFF;\n",
              "      --disabled-bg-color: #3B4455;\n",
              "      --disabled-fill-color: #666;\n",
              "  }\n",
              "\n",
              "  .colab-df-quickchart {\n",
              "    background-color: var(--bg-color);\n",
              "    border: none;\n",
              "    border-radius: 50%;\n",
              "    cursor: pointer;\n",
              "    display: none;\n",
              "    fill: var(--fill-color);\n",
              "    height: 32px;\n",
              "    padding: 0;\n",
              "    width: 32px;\n",
              "  }\n",
              "\n",
              "  .colab-df-quickchart:hover {\n",
              "    background-color: var(--hover-bg-color);\n",
              "    box-shadow: 0 1px 2px rgba(60, 64, 67, 0.3), 0 1px 3px 1px rgba(60, 64, 67, 0.15);\n",
              "    fill: var(--button-hover-fill-color);\n",
              "  }\n",
              "\n",
              "  .colab-df-quickchart-complete:disabled,\n",
              "  .colab-df-quickchart-complete:disabled:hover {\n",
              "    background-color: var(--disabled-bg-color);\n",
              "    fill: var(--disabled-fill-color);\n",
              "    box-shadow: none;\n",
              "  }\n",
              "\n",
              "  .colab-df-spinner {\n",
              "    border: 2px solid var(--fill-color);\n",
              "    border-color: transparent;\n",
              "    border-bottom-color: var(--fill-color);\n",
              "    animation:\n",
              "      spin 1s steps(1) infinite;\n",
              "  }\n",
              "\n",
              "  @keyframes spin {\n",
              "    0% {\n",
              "      border-color: transparent;\n",
              "      border-bottom-color: var(--fill-color);\n",
              "      border-left-color: var(--fill-color);\n",
              "    }\n",
              "    20% {\n",
              "      border-color: transparent;\n",
              "      border-left-color: var(--fill-color);\n",
              "      border-top-color: var(--fill-color);\n",
              "    }\n",
              "    30% {\n",
              "      border-color: transparent;\n",
              "      border-left-color: var(--fill-color);\n",
              "      border-top-color: var(--fill-color);\n",
              "      border-right-color: var(--fill-color);\n",
              "    }\n",
              "    40% {\n",
              "      border-color: transparent;\n",
              "      border-right-color: var(--fill-color);\n",
              "      border-top-color: var(--fill-color);\n",
              "    }\n",
              "    60% {\n",
              "      border-color: transparent;\n",
              "      border-right-color: var(--fill-color);\n",
              "    }\n",
              "    80% {\n",
              "      border-color: transparent;\n",
              "      border-right-color: var(--fill-color);\n",
              "      border-bottom-color: var(--fill-color);\n",
              "    }\n",
              "    90% {\n",
              "      border-color: transparent;\n",
              "      border-bottom-color: var(--fill-color);\n",
              "    }\n",
              "  }\n",
              "</style>\n",
              "\n",
              "  <script>\n",
              "    async function quickchart(key) {\n",
              "      const quickchartButtonEl =\n",
              "        document.querySelector('#' + key + ' button');\n",
              "      quickchartButtonEl.disabled = true;  // To prevent multiple clicks.\n",
              "      quickchartButtonEl.classList.add('colab-df-spinner');\n",
              "      try {\n",
              "        const charts = await google.colab.kernel.invokeFunction(\n",
              "            'suggestCharts', [key], {});\n",
              "      } catch (error) {\n",
              "        console.error('Error during call to suggestCharts:', error);\n",
              "      }\n",
              "      quickchartButtonEl.classList.remove('colab-df-spinner');\n",
              "      quickchartButtonEl.classList.add('colab-df-quickchart-complete');\n",
              "    }\n",
              "    (() => {\n",
              "      let quickchartButtonEl =\n",
              "        document.querySelector('#df-5a929bf3-1e93-4644-95f6-c35f901a138e button');\n",
              "      quickchartButtonEl.style.display =\n",
              "        google.colab.kernel.accessAllowed ? 'block' : 'none';\n",
              "    })();\n",
              "  </script>\n",
              "</div>\n",
              "\n",
              "    </div>\n",
              "  </div>\n"
            ],
            "application/vnd.google.colaboratory.intrinsic+json": {
              "type": "dataframe",
              "variable_name": "df"
            }
          },
          "metadata": {},
          "execution_count": 63
        }
      ]
    },
    {
      "cell_type": "markdown",
      "source": [
        "# Q13. Create a 3D scatter plot using Plotly."
      ],
      "metadata": {
        "id": "PHgsg9d27O2t"
      }
    },
    {
      "cell_type": "code",
      "source": [
        "import plotly.express as px\n",
        "import pandas as pd\n",
        "import numpy as np\n",
        "\n",
        "# Generate sample data\n",
        "np.random.seed(42)\n",
        "df = pd.DataFrame({\n",
        "    'X': np.random.rand(50) * 10,\n",
        "    'Y': np.random.rand(50) * 10,\n",
        "    'Z': np.random.rand(50) * 10,\n",
        "    'Category': np.random.choice(['A', 'B', 'C'], 50)  # Random categories\n",
        "})\n",
        "\n",
        "# Create a 3D scatter plot\n",
        "fig = px.scatter_3d(df, x='X', y='Y', z='Z', color='Category', title=\"3D Scatter Plot\")\n",
        "\n",
        "# Show plot\n",
        "fig.show()"
      ],
      "metadata": {
        "colab": {
          "base_uri": "https://localhost:8080/",
          "height": 542
        },
        "id": "eMJMvrMKO-ld",
        "outputId": "c17935cb-c292-4eb3-bbc3-8401e4bbe932"
      },
      "execution_count": 5,
      "outputs": [
        {
          "output_type": "display_data",
          "data": {
            "text/html": [
              "<html>\n",
              "<head><meta charset=\"utf-8\" /></head>\n",
              "<body>\n",
              "    <div>            <script src=\"https://cdnjs.cloudflare.com/ajax/libs/mathjax/2.7.5/MathJax.js?config=TeX-AMS-MML_SVG\"></script><script type=\"text/javascript\">if (window.MathJax && window.MathJax.Hub && window.MathJax.Hub.Config) {window.MathJax.Hub.Config({SVG: {font: \"STIX-Web\"}});}</script>                <script type=\"text/javascript\">window.PlotlyConfig = {MathJaxConfig: 'local'};</script>\n",
              "        <script charset=\"utf-8\" src=\"https://cdn.plot.ly/plotly-2.35.2.min.js\"></script>                <div id=\"28a3abcf-a64e-4f41-88b2-9bfe0f82b052\" class=\"plotly-graph-div\" style=\"height:525px; width:100%;\"></div>            <script type=\"text/javascript\">                                    window.PLOTLYENV=window.PLOTLYENV || {};                                    if (document.getElementById(\"28a3abcf-a64e-4f41-88b2-9bfe0f82b052\")) {                    Plotly.newPlot(                        \"28a3abcf-a64e-4f41-88b2-9bfe0f82b052\",                        [{\"hovertemplate\":\"Category=A\\u003cbr\\u003eX=%{x}\\u003cbr\\u003eY=%{y}\\u003cbr\\u003eZ=%{z}\\u003cextra\\u003e\\u003c\\u002fextra\\u003e\",\"legendgroup\":\"A\",\"marker\":{\"color\":\"#636efa\",\"symbol\":\"circle\"},\"mode\":\"markers\",\"name\":\"A\",\"scene\":\"scene\",\"showlegend\":true,\"x\":[3.745401188473625,9.50714306409916,1.5599452033620265,8.324426408004218,1.8340450985343382,1.3949386065204183,2.9214464853521815,7.851759613930136,9.656320330745594,8.08397348116461,6.842330265121569,1.2203823484477883,4.951769101112702],\"y\":[9.695846277645586,7.7513282336111455,9.218742350231167,8.287375091519294,5.426960831582485,1.987156815341724,0.05522117123602399,7.2900716804098735,3.109823217156622,3.2518332202674705,8.872127425763265,1.195942459383017,7.13244787222995],\"z\":[0.3142918568673425,6.364104112637804,2.4929222914887497,9.29697652342573,8.714605901877178,8.960912999234932,3.1800347497186388,4.271077886262563,9.429097039125192,3.2320293202075523,3.63629602379294,9.624472949421111,2.5178229582536416],\"type\":\"scatter3d\"},{\"hovertemplate\":\"Category=C\\u003cbr\\u003eX=%{x}\\u003cbr\\u003eY=%{y}\\u003cbr\\u003eZ=%{z}\\u003cextra\\u003e\\u003c\\u002fextra\\u003e\",\"legendgroup\":\"C\",\"marker\":{\"color\":\"#EF553B\",\"symbol\":\"circle\"},\"mode\":\"markers\",\"name\":\"C\",\"scene\":\"scene\",\"showlegend\":true,\"x\":[7.319939418114051,6.011150117432088,7.080725777960454,0.20584494295802447,9.699098521619943,2.1233911067827616,2.9122914019804194,6.118528947223795,3.663618432936917,1.9967378215835974,5.142344384136116,5.924145688620425,6.075448519014383,1.7052412368729153,0.6505159298527952,9.488855372533333,3.0461376917337066,4.4015249373960135,9.093204020787821,2.587799816000169,5.200680211778108,5.4671027934327965],\"y\":[9.394989415641891,0.45227288910538066,3.2533033076326436,3.8867728968948203,2.713490317738959,3.567533266935893,9.868869366005173,7.722447692966574,8.154614284548341,7.712703466859457,0.7404465173409036,3.5846572854427263,8.631034258755935,6.232981268275579,3.308980248526492,0.6355835028602363,7.29606178338064,4.722149251619493,5.612771975694963,7.70967179954561,4.275410183585496,0.2541912674409519],\"z\":[3.143559810763267,2.2879816549162246,0.7697990982879299,2.8975145291376805,1.6122128725400442,8.08120379564417,5.393422419156507,8.074401551640625,1.1005192452767676,8.18014765922493,8.607305832563434,0.06952130531190703,4.17411003148779,2.2210781047073027,1.198653673336828,3.3761517140362796,5.187906217433661,9.717820827209607,3.0087830981676964,2.848404943774676,5.026790232288615,0.5147875124998935],\"type\":\"scatter3d\"},{\"hovertemplate\":\"Category=B\\u003cbr\\u003eX=%{x}\\u003cbr\\u003eY=%{y}\\u003cbr\\u003eZ=%{z}\\u003cextra\\u003e\\u003c\\u002fextra\\u003e\",\"legendgroup\":\"B\",\"marker\":{\"color\":\"#00cc96\",\"symbol\":\"circle\"},\"mode\":\"markers\",\"name\":\"B\",\"scene\":\"scene\",\"showlegend\":true,\"x\":[5.986584841970366,1.5601864044243652,0.5808361216819946,8.661761457749352,1.8182496720710062,3.0424224295953772,5.247564316322379,4.319450186421157,4.56069984217036,0.46450412719997725,0.9767211400638387,0.34388521115218396,6.62522284353982,3.1171107608941098,1.8485445552552704],\"y\":[8.948273504276488,5.978999788110851,0.884925020519195,1.959828624191452,2.8093450968738076,1.4092422497476265,8.021969807540398,0.7455064367977082,7.068573438476172,1.1586905952512971,6.3755747135521315,7.607850486168974,4.937955963643907,5.227328293819941,1.0789142699330445],\"z\":[5.085706911647028,9.07566473926093,4.103829230356297,7.555511385430487,6.334037565104235,8.036720768991145,1.8657005888603584,8.925589984899778,2.279351625419417,5.107473025775658,7.030189588951778,4.972485058923855,0.36886947354532795,6.095643339798968,2.7864646423661146],\"type\":\"scatter3d\"}],                        {\"template\":{\"data\":{\"histogram2dcontour\":[{\"type\":\"histogram2dcontour\",\"colorbar\":{\"outlinewidth\":0,\"ticks\":\"\"},\"colorscale\":[[0.0,\"#0d0887\"],[0.1111111111111111,\"#46039f\"],[0.2222222222222222,\"#7201a8\"],[0.3333333333333333,\"#9c179e\"],[0.4444444444444444,\"#bd3786\"],[0.5555555555555556,\"#d8576b\"],[0.6666666666666666,\"#ed7953\"],[0.7777777777777778,\"#fb9f3a\"],[0.8888888888888888,\"#fdca26\"],[1.0,\"#f0f921\"]]}],\"choropleth\":[{\"type\":\"choropleth\",\"colorbar\":{\"outlinewidth\":0,\"ticks\":\"\"}}],\"histogram2d\":[{\"type\":\"histogram2d\",\"colorbar\":{\"outlinewidth\":0,\"ticks\":\"\"},\"colorscale\":[[0.0,\"#0d0887\"],[0.1111111111111111,\"#46039f\"],[0.2222222222222222,\"#7201a8\"],[0.3333333333333333,\"#9c179e\"],[0.4444444444444444,\"#bd3786\"],[0.5555555555555556,\"#d8576b\"],[0.6666666666666666,\"#ed7953\"],[0.7777777777777778,\"#fb9f3a\"],[0.8888888888888888,\"#fdca26\"],[1.0,\"#f0f921\"]]}],\"heatmap\":[{\"type\":\"heatmap\",\"colorbar\":{\"outlinewidth\":0,\"ticks\":\"\"},\"colorscale\":[[0.0,\"#0d0887\"],[0.1111111111111111,\"#46039f\"],[0.2222222222222222,\"#7201a8\"],[0.3333333333333333,\"#9c179e\"],[0.4444444444444444,\"#bd3786\"],[0.5555555555555556,\"#d8576b\"],[0.6666666666666666,\"#ed7953\"],[0.7777777777777778,\"#fb9f3a\"],[0.8888888888888888,\"#fdca26\"],[1.0,\"#f0f921\"]]}],\"heatmapgl\":[{\"type\":\"heatmapgl\",\"colorbar\":{\"outlinewidth\":0,\"ticks\":\"\"},\"colorscale\":[[0.0,\"#0d0887\"],[0.1111111111111111,\"#46039f\"],[0.2222222222222222,\"#7201a8\"],[0.3333333333333333,\"#9c179e\"],[0.4444444444444444,\"#bd3786\"],[0.5555555555555556,\"#d8576b\"],[0.6666666666666666,\"#ed7953\"],[0.7777777777777778,\"#fb9f3a\"],[0.8888888888888888,\"#fdca26\"],[1.0,\"#f0f921\"]]}],\"contourcarpet\":[{\"type\":\"contourcarpet\",\"colorbar\":{\"outlinewidth\":0,\"ticks\":\"\"}}],\"contour\":[{\"type\":\"contour\",\"colorbar\":{\"outlinewidth\":0,\"ticks\":\"\"},\"colorscale\":[[0.0,\"#0d0887\"],[0.1111111111111111,\"#46039f\"],[0.2222222222222222,\"#7201a8\"],[0.3333333333333333,\"#9c179e\"],[0.4444444444444444,\"#bd3786\"],[0.5555555555555556,\"#d8576b\"],[0.6666666666666666,\"#ed7953\"],[0.7777777777777778,\"#fb9f3a\"],[0.8888888888888888,\"#fdca26\"],[1.0,\"#f0f921\"]]}],\"surface\":[{\"type\":\"surface\",\"colorbar\":{\"outlinewidth\":0,\"ticks\":\"\"},\"colorscale\":[[0.0,\"#0d0887\"],[0.1111111111111111,\"#46039f\"],[0.2222222222222222,\"#7201a8\"],[0.3333333333333333,\"#9c179e\"],[0.4444444444444444,\"#bd3786\"],[0.5555555555555556,\"#d8576b\"],[0.6666666666666666,\"#ed7953\"],[0.7777777777777778,\"#fb9f3a\"],[0.8888888888888888,\"#fdca26\"],[1.0,\"#f0f921\"]]}],\"mesh3d\":[{\"type\":\"mesh3d\",\"colorbar\":{\"outlinewidth\":0,\"ticks\":\"\"}}],\"scatter\":[{\"fillpattern\":{\"fillmode\":\"overlay\",\"size\":10,\"solidity\":0.2},\"type\":\"scatter\"}],\"parcoords\":[{\"type\":\"parcoords\",\"line\":{\"colorbar\":{\"outlinewidth\":0,\"ticks\":\"\"}}}],\"scatterpolargl\":[{\"type\":\"scatterpolargl\",\"marker\":{\"colorbar\":{\"outlinewidth\":0,\"ticks\":\"\"}}}],\"bar\":[{\"error_x\":{\"color\":\"#2a3f5f\"},\"error_y\":{\"color\":\"#2a3f5f\"},\"marker\":{\"line\":{\"color\":\"#E5ECF6\",\"width\":0.5},\"pattern\":{\"fillmode\":\"overlay\",\"size\":10,\"solidity\":0.2}},\"type\":\"bar\"}],\"scattergeo\":[{\"type\":\"scattergeo\",\"marker\":{\"colorbar\":{\"outlinewidth\":0,\"ticks\":\"\"}}}],\"scatterpolar\":[{\"type\":\"scatterpolar\",\"marker\":{\"colorbar\":{\"outlinewidth\":0,\"ticks\":\"\"}}}],\"histogram\":[{\"marker\":{\"pattern\":{\"fillmode\":\"overlay\",\"size\":10,\"solidity\":0.2}},\"type\":\"histogram\"}],\"scattergl\":[{\"type\":\"scattergl\",\"marker\":{\"colorbar\":{\"outlinewidth\":0,\"ticks\":\"\"}}}],\"scatter3d\":[{\"type\":\"scatter3d\",\"line\":{\"colorbar\":{\"outlinewidth\":0,\"ticks\":\"\"}},\"marker\":{\"colorbar\":{\"outlinewidth\":0,\"ticks\":\"\"}}}],\"scattermapbox\":[{\"type\":\"scattermapbox\",\"marker\":{\"colorbar\":{\"outlinewidth\":0,\"ticks\":\"\"}}}],\"scatterternary\":[{\"type\":\"scatterternary\",\"marker\":{\"colorbar\":{\"outlinewidth\":0,\"ticks\":\"\"}}}],\"scattercarpet\":[{\"type\":\"scattercarpet\",\"marker\":{\"colorbar\":{\"outlinewidth\":0,\"ticks\":\"\"}}}],\"carpet\":[{\"aaxis\":{\"endlinecolor\":\"#2a3f5f\",\"gridcolor\":\"white\",\"linecolor\":\"white\",\"minorgridcolor\":\"white\",\"startlinecolor\":\"#2a3f5f\"},\"baxis\":{\"endlinecolor\":\"#2a3f5f\",\"gridcolor\":\"white\",\"linecolor\":\"white\",\"minorgridcolor\":\"white\",\"startlinecolor\":\"#2a3f5f\"},\"type\":\"carpet\"}],\"table\":[{\"cells\":{\"fill\":{\"color\":\"#EBF0F8\"},\"line\":{\"color\":\"white\"}},\"header\":{\"fill\":{\"color\":\"#C8D4E3\"},\"line\":{\"color\":\"white\"}},\"type\":\"table\"}],\"barpolar\":[{\"marker\":{\"line\":{\"color\":\"#E5ECF6\",\"width\":0.5},\"pattern\":{\"fillmode\":\"overlay\",\"size\":10,\"solidity\":0.2}},\"type\":\"barpolar\"}],\"pie\":[{\"automargin\":true,\"type\":\"pie\"}]},\"layout\":{\"autotypenumbers\":\"strict\",\"colorway\":[\"#636efa\",\"#EF553B\",\"#00cc96\",\"#ab63fa\",\"#FFA15A\",\"#19d3f3\",\"#FF6692\",\"#B6E880\",\"#FF97FF\",\"#FECB52\"],\"font\":{\"color\":\"#2a3f5f\"},\"hovermode\":\"closest\",\"hoverlabel\":{\"align\":\"left\"},\"paper_bgcolor\":\"white\",\"plot_bgcolor\":\"#E5ECF6\",\"polar\":{\"bgcolor\":\"#E5ECF6\",\"angularaxis\":{\"gridcolor\":\"white\",\"linecolor\":\"white\",\"ticks\":\"\"},\"radialaxis\":{\"gridcolor\":\"white\",\"linecolor\":\"white\",\"ticks\":\"\"}},\"ternary\":{\"bgcolor\":\"#E5ECF6\",\"aaxis\":{\"gridcolor\":\"white\",\"linecolor\":\"white\",\"ticks\":\"\"},\"baxis\":{\"gridcolor\":\"white\",\"linecolor\":\"white\",\"ticks\":\"\"},\"caxis\":{\"gridcolor\":\"white\",\"linecolor\":\"white\",\"ticks\":\"\"}},\"coloraxis\":{\"colorbar\":{\"outlinewidth\":0,\"ticks\":\"\"}},\"colorscale\":{\"sequential\":[[0.0,\"#0d0887\"],[0.1111111111111111,\"#46039f\"],[0.2222222222222222,\"#7201a8\"],[0.3333333333333333,\"#9c179e\"],[0.4444444444444444,\"#bd3786\"],[0.5555555555555556,\"#d8576b\"],[0.6666666666666666,\"#ed7953\"],[0.7777777777777778,\"#fb9f3a\"],[0.8888888888888888,\"#fdca26\"],[1.0,\"#f0f921\"]],\"sequentialminus\":[[0.0,\"#0d0887\"],[0.1111111111111111,\"#46039f\"],[0.2222222222222222,\"#7201a8\"],[0.3333333333333333,\"#9c179e\"],[0.4444444444444444,\"#bd3786\"],[0.5555555555555556,\"#d8576b\"],[0.6666666666666666,\"#ed7953\"],[0.7777777777777778,\"#fb9f3a\"],[0.8888888888888888,\"#fdca26\"],[1.0,\"#f0f921\"]],\"diverging\":[[0,\"#8e0152\"],[0.1,\"#c51b7d\"],[0.2,\"#de77ae\"],[0.3,\"#f1b6da\"],[0.4,\"#fde0ef\"],[0.5,\"#f7f7f7\"],[0.6,\"#e6f5d0\"],[0.7,\"#b8e186\"],[0.8,\"#7fbc41\"],[0.9,\"#4d9221\"],[1,\"#276419\"]]},\"xaxis\":{\"gridcolor\":\"white\",\"linecolor\":\"white\",\"ticks\":\"\",\"title\":{\"standoff\":15},\"zerolinecolor\":\"white\",\"automargin\":true,\"zerolinewidth\":2},\"yaxis\":{\"gridcolor\":\"white\",\"linecolor\":\"white\",\"ticks\":\"\",\"title\":{\"standoff\":15},\"zerolinecolor\":\"white\",\"automargin\":true,\"zerolinewidth\":2},\"scene\":{\"xaxis\":{\"backgroundcolor\":\"#E5ECF6\",\"gridcolor\":\"white\",\"linecolor\":\"white\",\"showbackground\":true,\"ticks\":\"\",\"zerolinecolor\":\"white\",\"gridwidth\":2},\"yaxis\":{\"backgroundcolor\":\"#E5ECF6\",\"gridcolor\":\"white\",\"linecolor\":\"white\",\"showbackground\":true,\"ticks\":\"\",\"zerolinecolor\":\"white\",\"gridwidth\":2},\"zaxis\":{\"backgroundcolor\":\"#E5ECF6\",\"gridcolor\":\"white\",\"linecolor\":\"white\",\"showbackground\":true,\"ticks\":\"\",\"zerolinecolor\":\"white\",\"gridwidth\":2}},\"shapedefaults\":{\"line\":{\"color\":\"#2a3f5f\"}},\"annotationdefaults\":{\"arrowcolor\":\"#2a3f5f\",\"arrowhead\":0,\"arrowwidth\":1},\"geo\":{\"bgcolor\":\"white\",\"landcolor\":\"#E5ECF6\",\"subunitcolor\":\"white\",\"showland\":true,\"showlakes\":true,\"lakecolor\":\"white\"},\"title\":{\"x\":0.05},\"mapbox\":{\"style\":\"light\"}}},\"scene\":{\"domain\":{\"x\":[0.0,1.0],\"y\":[0.0,1.0]},\"xaxis\":{\"title\":{\"text\":\"X\"}},\"yaxis\":{\"title\":{\"text\":\"Y\"}},\"zaxis\":{\"title\":{\"text\":\"Z\"}}},\"legend\":{\"title\":{\"text\":\"Category\"},\"tracegroupgap\":0},\"title\":{\"text\":\"3D Scatter Plot\"}},                        {\"responsive\": true}                    ).then(function(){\n",
              "                            \n",
              "var gd = document.getElementById('28a3abcf-a64e-4f41-88b2-9bfe0f82b052');\n",
              "var x = new MutationObserver(function (mutations, observer) {{\n",
              "        var display = window.getComputedStyle(gd).display;\n",
              "        if (!display || display === 'none') {{\n",
              "            console.log([gd, 'removed!']);\n",
              "            Plotly.purge(gd);\n",
              "            observer.disconnect();\n",
              "        }}\n",
              "}});\n",
              "\n",
              "// Listen for the removal of the full notebook cells\n",
              "var notebookContainer = gd.closest('#notebook-container');\n",
              "if (notebookContainer) {{\n",
              "    x.observe(notebookContainer, {childList: true});\n",
              "}}\n",
              "\n",
              "// Listen for the clearing of the current output cell\n",
              "var outputEl = gd.closest('.output');\n",
              "if (outputEl) {{\n",
              "    x.observe(outputEl, {childList: true});\n",
              "}}\n",
              "\n",
              "                        })                };                            </script>        </div>\n",
              "</body>\n",
              "</html>"
            ]
          },
          "metadata": {}
        }
      ]
    }
  ]
}